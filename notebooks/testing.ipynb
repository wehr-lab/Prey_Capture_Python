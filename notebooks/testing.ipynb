{
 "cells": [
  {
   "cell_type": "code",
   "execution_count": 1,
   "metadata": {},
   "outputs": [],
   "source": [
    "#import necessary packages\n",
    "import pandas as pd\n",
    "import numpy as np\n",
    "import matplotlib.pyplot as plt\n",
    "import seaborn as sns\n",
    "from scipy import interpolate\n",
    "from scipy import signal"
   ]
  },
  {
   "cell_type": "code",
   "execution_count": 4,
   "metadata": {},
   "outputs": [
    {
     "data": {
      "text/plain": [
       "'1.3.5'"
      ]
     },
     "execution_count": 4,
     "metadata": {},
     "output_type": "execute_result"
    }
   ],
   "source": [
    "pd.__version__"
   ]
  },
  {
   "cell_type": "code",
   "execution_count": 52,
   "metadata": {},
   "outputs": [],
   "source": [
    "from analysis import molly"
   ]
  },
  {
   "cell_type": "code",
   "execution_count": 53,
   "metadata": {},
   "outputs": [
    {
     "ename": "TypeError",
     "evalue": "extract_points() missing 2 required positional arguments: 'file' and 'bodyparts'",
     "output_type": "error",
     "traceback": [
      "\u001b[0;31m---------------------------------------------------------------------------\u001b[0m",
      "\u001b[0;31mTypeError\u001b[0m                                 Traceback (most recent call last)",
      "\u001b[0;32m<ipython-input-53-00916f441b3b>\u001b[0m in \u001b[0;36m<module>\u001b[0;34m\u001b[0m\n\u001b[0;32m----> 1\u001b[0;31m \u001b[0mmolly\u001b[0m\u001b[0;34m.\u001b[0m\u001b[0mextract_points\u001b[0m\u001b[0;34m(\u001b[0m\u001b[0;34m)\u001b[0m\u001b[0;34m\u001b[0m\u001b[0;34m\u001b[0m\u001b[0m\n\u001b[0m",
      "\u001b[0;31mTypeError\u001b[0m: extract_points() missing 2 required positional arguments: 'file' and 'bodyparts'"
     ]
    }
   ],
   "source": [
    "molly.extract_points()"
   ]
  },
  {
   "cell_type": "code",
   "execution_count": 99,
   "metadata": {},
   "outputs": [],
   "source": [
    "#just for this test case set the path to your file so that it's easier to work with\n",
    "csv = '/Users/mollyshallow/Desktop/Wehr_Lab/0898/2022-02-22_8-15-13_mouse-0898/Sky_mouse-0898_2022-02-22T08_15_13DLC_dlcrnetms5_optopreycapFeb16shuffle1_150000_el_filtered.csv'\n",
    "#ok right now this isn't the right csv, this is just the time series info, need the DLC output, need to grab a few"
   ]
  },
  {
   "cell_type": "code",
   "execution_count": 100,
   "metadata": {},
   "outputs": [
    {
     "data": {
      "text/plain": [
       "'/Users/mollyshallow/Desktop/Wehr_Lab/0898/2022-02-22_8-15-13_mouse-0898/Sky_mouse-0898_2022-02-22T08_15_13DLC_dlcrnetms5_optopreycapFeb16shuffle1_150000_el_filtered.csv'"
      ]
     },
     "execution_count": 100,
     "metadata": {},
     "output_type": "execute_result"
    }
   ],
   "source": [
    "csv"
   ]
  },
  {
   "cell_type": "code",
   "execution_count": 101,
   "metadata": {},
   "outputs": [],
   "source": [
    "#set the standard values that will be used for conversions later\n",
    "pixpercm=14.5 #this value is from spring term, need to figure this one out for our cam\n",
    "thresh=0.75\n",
    "framerate=200"
   ]
  },
  {
   "cell_type": "code",
   "execution_count": 102,
   "metadata": {},
   "outputs": [],
   "source": [
    "#turn the csv into a dataframe, this might be a little iffy with all of the data, possible to just include a subset\n",
    "data=pd.read_csv(csv, skiprows=[0,1], header=[0,1],index_col=[0]).loc[:,['Rear','Lear','anteriorC','posteriorC']]"
   ]
  },
  {
   "cell_type": "code",
   "execution_count": 103,
   "metadata": {},
   "outputs": [
    {
     "data": {
      "text/html": [
       "<div>\n",
       "<style scoped>\n",
       "    .dataframe tbody tr th:only-of-type {\n",
       "        vertical-align: middle;\n",
       "    }\n",
       "\n",
       "    .dataframe tbody tr th {\n",
       "        vertical-align: top;\n",
       "    }\n",
       "\n",
       "    .dataframe thead tr th {\n",
       "        text-align: left;\n",
       "    }\n",
       "</style>\n",
       "<table border=\"1\" class=\"dataframe\">\n",
       "  <thead>\n",
       "    <tr>\n",
       "      <th>bodyparts</th>\n",
       "      <th colspan=\"3\" halign=\"left\">Rear</th>\n",
       "      <th colspan=\"3\" halign=\"left\">Lear</th>\n",
       "      <th colspan=\"3\" halign=\"left\">anteriorC</th>\n",
       "      <th colspan=\"3\" halign=\"left\">posteriorC</th>\n",
       "    </tr>\n",
       "    <tr>\n",
       "      <th>coords</th>\n",
       "      <th>x</th>\n",
       "      <th>y</th>\n",
       "      <th>likelihood</th>\n",
       "      <th>x</th>\n",
       "      <th>y</th>\n",
       "      <th>likelihood</th>\n",
       "      <th>x</th>\n",
       "      <th>y</th>\n",
       "      <th>likelihood</th>\n",
       "      <th>x</th>\n",
       "      <th>y</th>\n",
       "      <th>likelihood</th>\n",
       "    </tr>\n",
       "  </thead>\n",
       "  <tbody>\n",
       "    <tr>\n",
       "      <th>0</th>\n",
       "      <td>694.885</td>\n",
       "      <td>109.091</td>\n",
       "      <td>1.0</td>\n",
       "      <td>716.819</td>\n",
       "      <td>81.464</td>\n",
       "      <td>1.0</td>\n",
       "      <td>NaN</td>\n",
       "      <td>NaN</td>\n",
       "      <td>NaN</td>\n",
       "      <td>NaN</td>\n",
       "      <td>NaN</td>\n",
       "      <td>NaN</td>\n",
       "    </tr>\n",
       "    <tr>\n",
       "      <th>1</th>\n",
       "      <td>695.034</td>\n",
       "      <td>109.091</td>\n",
       "      <td>1.0</td>\n",
       "      <td>717.193</td>\n",
       "      <td>81.520</td>\n",
       "      <td>1.0</td>\n",
       "      <td>NaN</td>\n",
       "      <td>NaN</td>\n",
       "      <td>NaN</td>\n",
       "      <td>NaN</td>\n",
       "      <td>NaN</td>\n",
       "      <td>NaN</td>\n",
       "    </tr>\n",
       "    <tr>\n",
       "      <th>2</th>\n",
       "      <td>695.042</td>\n",
       "      <td>109.091</td>\n",
       "      <td>1.0</td>\n",
       "      <td>717.511</td>\n",
       "      <td>81.803</td>\n",
       "      <td>1.0</td>\n",
       "      <td>NaN</td>\n",
       "      <td>NaN</td>\n",
       "      <td>NaN</td>\n",
       "      <td>NaN</td>\n",
       "      <td>NaN</td>\n",
       "      <td>NaN</td>\n",
       "    </tr>\n",
       "    <tr>\n",
       "      <th>3</th>\n",
       "      <td>695.424</td>\n",
       "      <td>109.032</td>\n",
       "      <td>1.0</td>\n",
       "      <td>717.616</td>\n",
       "      <td>82.064</td>\n",
       "      <td>1.0</td>\n",
       "      <td>NaN</td>\n",
       "      <td>NaN</td>\n",
       "      <td>NaN</td>\n",
       "      <td>NaN</td>\n",
       "      <td>NaN</td>\n",
       "      <td>NaN</td>\n",
       "    </tr>\n",
       "    <tr>\n",
       "      <th>4</th>\n",
       "      <td>695.459</td>\n",
       "      <td>108.853</td>\n",
       "      <td>1.0</td>\n",
       "      <td>718.175</td>\n",
       "      <td>83.411</td>\n",
       "      <td>1.0</td>\n",
       "      <td>NaN</td>\n",
       "      <td>NaN</td>\n",
       "      <td>NaN</td>\n",
       "      <td>NaN</td>\n",
       "      <td>NaN</td>\n",
       "      <td>NaN</td>\n",
       "    </tr>\n",
       "    <tr>\n",
       "      <th>...</th>\n",
       "      <td>...</td>\n",
       "      <td>...</td>\n",
       "      <td>...</td>\n",
       "      <td>...</td>\n",
       "      <td>...</td>\n",
       "      <td>...</td>\n",
       "      <td>...</td>\n",
       "      <td>...</td>\n",
       "      <td>...</td>\n",
       "      <td>...</td>\n",
       "      <td>...</td>\n",
       "      <td>...</td>\n",
       "    </tr>\n",
       "    <tr>\n",
       "      <th>9315</th>\n",
       "      <td>615.626</td>\n",
       "      <td>487.217</td>\n",
       "      <td>1.0</td>\n",
       "      <td>630.924</td>\n",
       "      <td>516.897</td>\n",
       "      <td>1.0</td>\n",
       "      <td>NaN</td>\n",
       "      <td>NaN</td>\n",
       "      <td>NaN</td>\n",
       "      <td>NaN</td>\n",
       "      <td>NaN</td>\n",
       "      <td>NaN</td>\n",
       "    </tr>\n",
       "    <tr>\n",
       "      <th>9316</th>\n",
       "      <td>615.626</td>\n",
       "      <td>487.217</td>\n",
       "      <td>1.0</td>\n",
       "      <td>631.170</td>\n",
       "      <td>516.849</td>\n",
       "      <td>1.0</td>\n",
       "      <td>1162.082</td>\n",
       "      <td>283.269</td>\n",
       "      <td>0.734</td>\n",
       "      <td>NaN</td>\n",
       "      <td>NaN</td>\n",
       "      <td>NaN</td>\n",
       "    </tr>\n",
       "    <tr>\n",
       "      <th>9317</th>\n",
       "      <td>615.647</td>\n",
       "      <td>487.024</td>\n",
       "      <td>1.0</td>\n",
       "      <td>631.170</td>\n",
       "      <td>516.843</td>\n",
       "      <td>1.0</td>\n",
       "      <td>1161.881</td>\n",
       "      <td>283.005</td>\n",
       "      <td>0.607</td>\n",
       "      <td>NaN</td>\n",
       "      <td>NaN</td>\n",
       "      <td>NaN</td>\n",
       "    </tr>\n",
       "    <tr>\n",
       "      <th>9318</th>\n",
       "      <td>615.626</td>\n",
       "      <td>486.031</td>\n",
       "      <td>1.0</td>\n",
       "      <td>630.924</td>\n",
       "      <td>516.702</td>\n",
       "      <td>1.0</td>\n",
       "      <td>1156.948</td>\n",
       "      <td>282.968</td>\n",
       "      <td>0.662</td>\n",
       "      <td>NaN</td>\n",
       "      <td>NaN</td>\n",
       "      <td>NaN</td>\n",
       "    </tr>\n",
       "    <tr>\n",
       "      <th>9319</th>\n",
       "      <td>615.626</td>\n",
       "      <td>485.822</td>\n",
       "      <td>1.0</td>\n",
       "      <td>630.924</td>\n",
       "      <td>516.667</td>\n",
       "      <td>1.0</td>\n",
       "      <td>NaN</td>\n",
       "      <td>NaN</td>\n",
       "      <td>NaN</td>\n",
       "      <td>NaN</td>\n",
       "      <td>NaN</td>\n",
       "      <td>NaN</td>\n",
       "    </tr>\n",
       "  </tbody>\n",
       "</table>\n",
       "<p>9320 rows × 12 columns</p>\n",
       "</div>"
      ],
      "text/plain": [
       "bodyparts     Rear                         Lear                     anteriorC  \\\n",
       "coords           x        y likelihood        x        y likelihood         x   \n",
       "0          694.885  109.091        1.0  716.819   81.464        1.0       NaN   \n",
       "1          695.034  109.091        1.0  717.193   81.520        1.0       NaN   \n",
       "2          695.042  109.091        1.0  717.511   81.803        1.0       NaN   \n",
       "3          695.424  109.032        1.0  717.616   82.064        1.0       NaN   \n",
       "4          695.459  108.853        1.0  718.175   83.411        1.0       NaN   \n",
       "...            ...      ...        ...      ...      ...        ...       ...   \n",
       "9315       615.626  487.217        1.0  630.924  516.897        1.0       NaN   \n",
       "9316       615.626  487.217        1.0  631.170  516.849        1.0  1162.082   \n",
       "9317       615.647  487.024        1.0  631.170  516.843        1.0  1161.881   \n",
       "9318       615.626  486.031        1.0  630.924  516.702        1.0  1156.948   \n",
       "9319       615.626  485.822        1.0  630.924  516.667        1.0       NaN   \n",
       "\n",
       "bodyparts                     posteriorC                 \n",
       "coords           y likelihood          x   y likelihood  \n",
       "0              NaN        NaN        NaN NaN        NaN  \n",
       "1              NaN        NaN        NaN NaN        NaN  \n",
       "2              NaN        NaN        NaN NaN        NaN  \n",
       "3              NaN        NaN        NaN NaN        NaN  \n",
       "4              NaN        NaN        NaN NaN        NaN  \n",
       "...            ...        ...        ...  ..        ...  \n",
       "9315           NaN        NaN        NaN NaN        NaN  \n",
       "9316       283.269      0.734        NaN NaN        NaN  \n",
       "9317       283.005      0.607        NaN NaN        NaN  \n",
       "9318       282.968      0.662        NaN NaN        NaN  \n",
       "9319           NaN        NaN        NaN NaN        NaN  \n",
       "\n",
       "[9320 rows x 12 columns]"
      ]
     },
     "execution_count": 103,
     "metadata": {},
     "output_type": "execute_result"
    }
   ],
   "source": [
    "data"
   ]
  },
  {
   "cell_type": "code",
   "execution_count": 104,
   "metadata": {},
   "outputs": [],
   "source": [
    "#load your dlc points for the  mouse \n",
    "rear_x=data['Rear','x'].to_numpy()/pixpercm\n",
    "rear_y=data['Rear','y'].to_numpy()/pixpercm\n",
    "\n",
    "lear_x=data['Lear','x'].to_numpy()/pixpercm\n",
    "lear_y=data['Lear','y'].to_numpy()/pixpercm\n",
    "\n",
    "#create arrays that tie together xy points for each ear\n",
    "rear_xy=np.asarray([rear_x,rear_y])\n",
    "lear_xy=np.asarray([lear_x,lear_y])\n",
    "#create an array of one identifying head point for the mouse using the average of the ear points\n",
    "mouse_xy=0.5*(rear_xy+lear_xy)"
   ]
  },
  {
   "cell_type": "code",
   "execution_count": 105,
   "metadata": {},
   "outputs": [
    {
     "name": "stderr",
     "output_type": "stream",
     "text": [
      "/Users/mollyshallow/opt/anaconda3/lib/python3.7/site-packages/ipykernel_launcher.py:11: RuntimeWarning: invalid value encountered in less\n",
      "  # This is added back by InteractiveShellApp.init_path()\n",
      "/Users/mollyshallow/opt/anaconda3/lib/python3.7/site-packages/ipykernel_launcher.py:13: RuntimeWarning: invalid value encountered in less\n",
      "  del sys.path[0]\n"
     ]
    }
   ],
   "source": [
    "#load cricket points and cricket probability\n",
    "#cricket probability will be used to threshold the data and interpolate if necessary\n",
    "#not quite identical to mouse points because there are two cricket points and we want the average\n",
    "cricket_p=(data['anteriorC','likelihood'].to_numpy()+data['posteriorC','likelihood'].to_numpy())/2\n",
    "cricket_x=(data['anteriorC','x'].to_numpy()+data['posteriorC','x'].to_numpy())/2\n",
    "cricket_y=(data['anteriorC','y'].to_numpy()+data['posteriorC','y'].to_numpy())/2\n",
    "cricket_x=cricket_x/pixpercm\n",
    "cricket_y=cricket_y/pixpercm\n",
    "#threshold out cricket values with low probability \n",
    "thresh_cricket_x=cricket_x.copy()\n",
    "thresh_cricket_x[cricket_p<thresh]=np.nan\n",
    "thresh_cricket_y=cricket_y.copy()\n",
    "thresh_cricket_y[cricket_p<thresh]=np.nan\n",
    "#create array with xy points for cricket that are average of the front and back values, thresholded\n",
    "cricket_xy=[thresh_cricket_x, thresh_cricket_y]"
   ]
  },
  {
   "cell_type": "code",
   "execution_count": 106,
   "metadata": {},
   "outputs": [
    {
     "data": {
      "text/plain": [
       "[array([nan, nan, nan, ..., nan, nan, nan]),\n",
       " array([nan, nan, nan, ..., nan, nan, nan])]"
      ]
     },
     "execution_count": 106,
     "metadata": {},
     "output_type": "execute_result"
    }
   ],
   "source": [
    "cricket_xy"
   ]
  },
  {
   "cell_type": "code",
   "execution_count": 107,
   "metadata": {},
   "outputs": [
    {
     "data": {
      "text/plain": [
       "[<matplotlib.lines.Line2D at 0x7fcad7013610>]"
      ]
     },
     "execution_count": 107,
     "metadata": {},
     "output_type": "execute_result"
    },
    {
     "data": {
      "image/png": "[encoded data removed]",
      "text/plain": [
       "<Figure size 432x288 with 1 Axes>"
      ]
     },
     "metadata": {
      "needs_background": "light"
     },
     "output_type": "display_data"
    }
   ],
   "source": [
    "plt.plot(cricket_xy[0], cricket_xy[1])\n",
    "# plt.plot(mouse_xy[0], mouse_xy[1])"
   ]
  },
  {
   "cell_type": "code",
   "execution_count": 108,
   "metadata": {},
   "outputs": [
    {
     "data": {
      "text/plain": [
       "[<matplotlib.lines.Line2D at 0x7fcad701b150>]"
      ]
     },
     "execution_count": 108,
     "metadata": {},
     "output_type": "execute_result"
    },
    {
     "data": {
      "image/png": "[encoded data removed]",
      "text/plain": [
       "<Figure size 432x288 with 1 Axes>"
      ]
     },
     "metadata": {
      "needs_background": "light"
     },
     "output_type": "display_data"
    }
   ],
   "source": [
    "plt.plot(mouse_xy[0], mouse_xy[1])"
   ]
  },
  {
   "cell_type": "code",
   "execution_count": 109,
   "metadata": {},
   "outputs": [],
   "source": [
    "ind = np.arange(0,len(thresh_cricket_x))\n",
    "interp = interpolate.interp1d(ind[~np.isnan(thresh_cricket_x)], thresh_cricket_x[~np.isnan(thresh_cricket_x)],bounds_error=False, fill_value=np.nan )\n",
    "cricket_x_interp = interp(ind)\n",
    "\n",
    "ind = np.arange(0,len(thresh_cricket_y))\n",
    "interp = interpolate.interp1d(ind[~np.isnan(thresh_cricket_y)], thresh_cricket_y[~np.isnan(thresh_cricket_y)],bounds_error=False, fill_value=np.nan)\n",
    "cricket_y_interp = interp(ind)"
   ]
  },
  {
   "cell_type": "code",
   "execution_count": 110,
   "metadata": {},
   "outputs": [
    {
     "data": {
      "text/plain": [
       "[<matplotlib.lines.Line2D at 0x7fcad7196250>]"
      ]
     },
     "execution_count": 110,
     "metadata": {},
     "output_type": "execute_result"
    },
    {
     "data": {
      "image/png": "[encoded data removed]",
      "text/plain": [
       "<Figure size 432x288 with 1 Axes>"
      ]
     },
     "metadata": {
      "needs_background": "light"
     },
     "output_type": "display_data"
    }
   ],
   "source": [
    "plt.plot(cricket_x_interp,cricket_y_interp)"
   ]
  },
  {
   "cell_type": "code",
   "execution_count": 111,
   "metadata": {},
   "outputs": [
    {
     "data": {
      "image/png": "[encoded data removed]",
      "text/plain": [
       "<Figure size 720x576 with 1 Axes>"
      ]
     },
     "metadata": {
      "needs_background": "light"
     },
     "output_type": "display_data"
    }
   ],
   "source": [
    "plt.figure(figsize=(10,8))\n",
    "plt.plot(mouse_xy[0], mouse_xy[1], alpha=0.75, label='Mouse Position')\n",
    "plt.plot(cricket_xy[0], cricket_xy[1], alpha=0.75, label='Cricket Position')\n",
    "# plt.scatter(cricket_x_interp[0], cricket_y_interp[0], color='g')\n",
    "# plt.scatter(cricket_x_interp[-1], cricket_y_interp[-1], color='r')\n",
    "plt.scatter(mouse_xy[0][0], mouse_xy[1][0], color='g')\n",
    "plt.scatter(mouse_xy[0][-1], mouse_xy[1][-1], color='r')\n",
    "sns.despine()\n",
    "plt.legend(loc='lower right')\n",
    "# plt.savefig('interp_dlcpos.png')\n",
    "plt.show()\n"
   ]
  },
  {
   "cell_type": "code",
   "execution_count": 112,
   "metadata": {},
   "outputs": [],
   "source": [
    "captureT = np.max(np.where(~np.isnan(cricket_xy[0])))/framerate-np.min(np.where(~np.isnan(cricket_xy[0])))/framerate # return this\n",
    "movieT = len(cricket_p)/framerate\n",
    "if captureT.size==0:\n",
    "    captureT = movieT\n",
    "end=len(cricket_xy[0])/framerate\n",
    "timestamps=np.linspace(0,end,len(cricket_xy[0]))\n",
    "start=np.min(np.where(~np.isnan(cricket_xy[0])))\n",
    "stop=np.max(np.where(~np.isnan(cricket_xy[0])))"
   ]
  },
  {
   "cell_type": "code",
   "execution_count": 113,
   "metadata": {},
   "outputs": [
    {
     "data": {
      "text/plain": [
       "41.894999999999996"
      ]
     },
     "execution_count": 113,
     "metadata": {},
     "output_type": "execute_result"
    }
   ],
   "source": [
    "captureT"
   ]
  },
  {
   "cell_type": "code",
   "execution_count": 114,
   "metadata": {},
   "outputs": [
    {
     "data": {
      "text/plain": [
       "array([nan, nan, nan, ..., nan, nan, nan])"
      ]
     },
     "execution_count": 114,
     "metadata": {},
     "output_type": "execute_result"
    }
   ],
   "source": [
    "dist = np.sqrt(np.square(thresh_cricket_x- mouse_xy[0]) + np.square(thresh_cricket_y - mouse_xy[1])) #cmn - changes to cricket_x instead of interp.\n",
    "# dist[-1] = 0  # we know that last point should be 0 range, since it's capture\n",
    "dist"
   ]
  },
  {
   "cell_type": "code",
   "execution_count": 115,
   "metadata": {},
   "outputs": [
    {
     "data": {
      "text/plain": [
       "[<matplotlib.lines.Line2D at 0x7fcad6703510>]"
      ]
     },
     "execution_count": 115,
     "metadata": {},
     "output_type": "execute_result"
    },
    {
     "data": {
      "image/png": "[encoded data removed]",
      "text/plain": [
       "<Figure size 432x288 with 1 Axes>"
      ]
     },
     "metadata": {
      "needs_background": "light"
     },
     "output_type": "display_data"
    }
   ],
   "source": [
    "plt.plot( timestamps,dist)"
   ]
  },
  {
   "cell_type": "code",
   "execution_count": 116,
   "metadata": {},
   "outputs": [],
   "source": [
    "ind = np.arange(0,len(dist))\n",
    "interp = interpolate.interp1d(ind[~np.isnan(dist)], dist[~np.isnan(dist)],bounds_error=False, fill_value=np.nan )\n",
    "range_interp = interp(ind)\n",
    "dist = range_interp"
   ]
  },
  {
   "cell_type": "code",
   "execution_count": 117,
   "metadata": {},
   "outputs": [
    {
     "data": {
      "text/plain": [
       "[<matplotlib.lines.Line2D at 0x7fcad6919b10>]"
      ]
     },
     "execution_count": 117,
     "metadata": {},
     "output_type": "execute_result"
    },
    {
     "data": {
      "image/png": "[encoded data removed]",
      "text/plain": [
       "<Figure size 432x288 with 1 Axes>"
      ]
     },
     "metadata": {
      "needs_background": "light"
     },
     "output_type": "display_data"
    }
   ],
   "source": [
    "plt.plot(timestamps[start:stop],dist[start:stop])"
   ]
  },
  {
   "cell_type": "code",
   "execution_count": 118,
   "metadata": {},
   "outputs": [
    {
     "data": {
      "text/plain": [
       "nan"
      ]
     },
     "execution_count": 118,
     "metadata": {},
     "output_type": "execute_result"
    }
   ],
   "source": [
    "dist[stop]"
   ]
  },
  {
   "cell_type": "code",
   "execution_count": 119,
   "metadata": {},
   "outputs": [],
   "source": [
    "win = 12\n",
    "dx = np.diff(mouse_xy[0])\n",
    "dx = np.convolve(dx,np.ones(win)/win, 'same')\n",
    "dy = np.diff(mouse_xy[1])\n",
    "dy = np.convolve(dy,np.ones(win)/win, 'same')\n",
    "spd = (np.sqrt(np.square(dx)+np.square(dy)))*framerate"
   ]
  },
  {
   "cell_type": "code",
   "execution_count": 120,
   "metadata": {},
   "outputs": [
    {
     "data": {
      "text/plain": [
       "[<matplotlib.lines.Line2D at 0x7fcad6a57110>]"
      ]
     },
     "execution_count": 120,
     "metadata": {},
     "output_type": "execute_result"
    },
    {
     "data": {
      "image/png": "[encoded data removed]",
      "text/plain": [
       "<Figure size 432x288 with 1 Axes>"
      ]
     },
     "metadata": {
      "needs_background": "light"
     },
     "output_type": "display_data"
    }
   ],
   "source": [
    "plt.plot(timestamps[0:-1],spd)"
   ]
  },
  {
   "cell_type": "code",
   "execution_count": 121,
   "metadata": {},
   "outputs": [],
   "source": [
    "mouse_az = np.arctan2((cricket_xy[1] - mouse_xy[1]),(cricket_xy[0] - mouse_xy[0]))*180/np.pi\n",
    "head_az = np.arctan2((rear_xy[1] - lear_xy[1]),(rear_xy[0] - lear_xy[0]))*180/np.pi -90\n",
    "az = mouse_az-head_az\n",
    "az = np.mod(az+180,360)-180\n",
    "if np.sum(~np.isnan(az))>0:\n",
    "    azOld = az\n",
    "    ind = np.arange(0,len(az))\n",
    "    interp = interpolate.interp1d(ind[~np.isnan(az)], az[~np.isnan(az)],bounds_error=False, fill_value=np.nan )\n",
    "    az = interp(ind)"
   ]
  },
  {
   "cell_type": "code",
   "execution_count": 122,
   "metadata": {},
   "outputs": [
    {
     "data": {
      "text/plain": [
       "[<matplotlib.lines.Line2D at 0x7fcad6bbc410>]"
      ]
     },
     "execution_count": 122,
     "metadata": {},
     "output_type": "execute_result"
    },
    {
     "data": {
      "image/png": "[encoded data removed]",
      "text/plain": [
       "<Figure size 432x288 with 1 Axes>"
      ]
     },
     "metadata": {
      "needs_background": "light"
     },
     "output_type": "display_data"
    }
   ],
   "source": [
    "plt.plot(timestamps,az)"
   ]
  },
  {
   "cell_type": "code",
   "execution_count": 123,
   "metadata": {},
   "outputs": [],
   "source": [
    "approach = []\n",
    "paired = list(zip(az,spd))\n",
    "for pair in paired:\n",
    "    if np.abs(pair[0]) < 30 and pair[1] > 5:\n",
    "        approach.append(1)\n",
    "    else:\n",
    "        approach.append(0)\n",
    "\n",
    "approach = signal.medfilt(approach, 101) # 101 is hardcoded half a second based on framerate\n",
    "approach = np.asarray(approach)\n",
    "\n",
    "approachStarts = np.where(np.diff(approach)>0)\n",
    "approachEnds = np.where(np.diff(approach)<0)\n",
    "firstApproach = np.min(approachStarts)\n",
    "timetoapproach = timestamps[firstApproach] # return this\n",
    "freqapproach=np.size(approachStarts) / movieT # return this"
   ]
  },
  {
   "cell_type": "code",
   "execution_count": 124,
   "metadata": {},
   "outputs": [
    {
     "data": {
      "text/plain": [
       "6.58"
      ]
     },
     "execution_count": 124,
     "metadata": {},
     "output_type": "execute_result"
    }
   ],
   "source": [
    "firstApproach/framerate"
   ]
  },
  {
   "cell_type": "code",
   "execution_count": 125,
   "metadata": {},
   "outputs": [
    {
     "data": {
      "text/plain": [
       "6.580706084343815"
      ]
     },
     "execution_count": 125,
     "metadata": {},
     "output_type": "execute_result"
    }
   ],
   "source": [
    "timetoapproach"
   ]
  },
  {
   "cell_type": "code",
   "execution_count": 126,
   "metadata": {},
   "outputs": [
    {
     "data": {
      "text/plain": [
       "0.1072961373390558"
      ]
     },
     "execution_count": 126,
     "metadata": {},
     "output_type": "execute_result"
    }
   ],
   "source": [
    "freqapproach"
   ]
  },
  {
   "cell_type": "code",
   "execution_count": 127,
   "metadata": {},
   "outputs": [
    {
     "data": {
      "text/plain": [
       "(array([1501, 1685, 4914, 5912, 6077]),)"
      ]
     },
     "execution_count": 127,
     "metadata": {},
     "output_type": "execute_result"
    }
   ],
   "source": [
    "approachEnds"
   ]
  },
  {
   "cell_type": "code",
   "execution_count": 128,
   "metadata": {},
   "outputs": [],
   "source": [
    "intercept = []\n",
    "maybeIntercept = np.take(dist, approachEnds) # uses approachEnds to index dist\n",
    "maybeIntercept = maybeIntercept[0] # np.take returns tuple, first value are the ones you one\n",
    "maybeIntercept[-1] = 0 # assuming last approach is intercept/capture, makes things werk\n",
    "\n",
    "for i in maybeIntercept:\n",
    "    if i < 5:\n",
    "        intercept.append(1)\n",
    "    else:\n",
    "        intercept.append(0)\n",
    "\n",
    "# calculate probability of intercept given approach\n",
    "tot_approach = np.size(approachEnds)\n",
    "tot_intercept = sum(intercept)\n",
    "prob_inter = tot_intercept / tot_approach\n",
    "\n",
    "# calculate the probability of capture given contact - 1/number of intercepts\n",
    "if tot_intercept>0:\n",
    "    prob_capture = 1 / tot_intercept\n",
    "else:\n",
    "    print('no capture')"
   ]
  },
  {
   "cell_type": "code",
   "execution_count": 129,
   "metadata": {},
   "outputs": [
    {
     "data": {
      "text/plain": [
       "0.5"
      ]
     },
     "execution_count": 129,
     "metadata": {},
     "output_type": "execute_result"
    }
   ],
   "source": [
    "prob_capture"
   ]
  },
  {
   "cell_type": "code",
   "execution_count": 130,
   "metadata": {},
   "outputs": [
    {
     "data": {
      "text/plain": [
       "0.4"
      ]
     },
     "execution_count": 130,
     "metadata": {},
     "output_type": "execute_result"
    }
   ],
   "source": [
    "prob_inter"
   ]
  },
  {
   "cell_type": "code",
   "execution_count": 131,
   "metadata": {},
   "outputs": [
    {
     "data": {
      "text/plain": [
       "0.1072961373390558"
      ]
     },
     "execution_count": 131,
     "metadata": {},
     "output_type": "execute_result"
    }
   ],
   "source": [
    "freqapproach"
   ]
  },
  {
   "cell_type": "code",
   "execution_count": 132,
   "metadata": {},
   "outputs": [
    {
     "data": {
      "text/plain": [
       "6.580706084343815"
      ]
     },
     "execution_count": 132,
     "metadata": {},
     "output_type": "execute_result"
    }
   ],
   "source": [
    "timetoapproach"
   ]
  },
  {
   "cell_type": "code",
   "execution_count": 133,
   "metadata": {},
   "outputs": [
    {
     "data": {
      "text/plain": [
       "41.894999999999996"
      ]
     },
     "execution_count": 133,
     "metadata": {},
     "output_type": "execute_result"
    }
   ],
   "source": [
    "captureT"
   ]
  },
  {
   "cell_type": "code",
   "execution_count": 134,
   "metadata": {},
   "outputs": [],
   "source": [
    "file=csv\n",
    "bodyparts=['Rear','Lear','anteriorC','posteriorC']\n"
   ]
  },
  {
   "cell_type": "code",
   "execution_count": 135,
   "metadata": {},
   "outputs": [
    {
     "data": {
      "text/plain": [
       "['Rear', 'Lear', 'anteriorC', 'posteriorC']"
      ]
     },
     "execution_count": 135,
     "metadata": {},
     "output_type": "execute_result"
    }
   ],
   "source": [
    "bodyparts"
   ]
  },
  {
   "cell_type": "code",
   "execution_count": 136,
   "metadata": {},
   "outputs": [
    {
     "data": {
      "text/plain": [
       "'/Users/mollyshallow/Desktop/Wehr_Lab/0898/2022-02-22_8-15-13_mouse-0898/Sky_mouse-0898_2022-02-22T08_15_13DLC_dlcrnetms5_optopreycapFeb16shuffle1_150000_el_filtered.csv'"
      ]
     },
     "execution_count": 136,
     "metadata": {},
     "output_type": "execute_result"
    }
   ],
   "source": [
    "file"
   ]
  },
  {
   "cell_type": "code",
   "execution_count": 137,
   "metadata": {},
   "outputs": [],
   "source": [
    "data=pd.read_csv(file, skiprows=[0,1], header=[0,1])"
   ]
  },
  {
   "cell_type": "code",
   "execution_count": 138,
   "metadata": {},
   "outputs": [
    {
     "data": {
      "text/html": [
       "<div>\n",
       "<style scoped>\n",
       "    .dataframe tbody tr th:only-of-type {\n",
       "        vertical-align: middle;\n",
       "    }\n",
       "\n",
       "    .dataframe tbody tr th {\n",
       "        vertical-align: top;\n",
       "    }\n",
       "\n",
       "    .dataframe thead tr th {\n",
       "        text-align: left;\n",
       "    }\n",
       "</style>\n",
       "<table border=\"1\" class=\"dataframe\">\n",
       "  <thead>\n",
       "    <tr>\n",
       "      <th></th>\n",
       "      <th>bodyparts</th>\n",
       "      <th colspan=\"3\" halign=\"left\">nose</th>\n",
       "      <th colspan=\"3\" halign=\"left\">Rear</th>\n",
       "      <th colspan=\"3\" halign=\"left\">Lear</th>\n",
       "      <th>...</th>\n",
       "      <th>spine</th>\n",
       "      <th colspan=\"3\" halign=\"left\">tailbase</th>\n",
       "      <th colspan=\"3\" halign=\"left\">anteriorC</th>\n",
       "      <th colspan=\"3\" halign=\"left\">posteriorC</th>\n",
       "    </tr>\n",
       "    <tr>\n",
       "      <th></th>\n",
       "      <th>coords</th>\n",
       "      <th>x</th>\n",
       "      <th>y</th>\n",
       "      <th>likelihood</th>\n",
       "      <th>x</th>\n",
       "      <th>y</th>\n",
       "      <th>likelihood</th>\n",
       "      <th>x</th>\n",
       "      <th>y</th>\n",
       "      <th>likelihood</th>\n",
       "      <th>...</th>\n",
       "      <th>likelihood</th>\n",
       "      <th>x</th>\n",
       "      <th>y</th>\n",
       "      <th>likelihood</th>\n",
       "      <th>x</th>\n",
       "      <th>y</th>\n",
       "      <th>likelihood</th>\n",
       "      <th>x</th>\n",
       "      <th>y</th>\n",
       "      <th>likelihood</th>\n",
       "    </tr>\n",
       "  </thead>\n",
       "  <tbody>\n",
       "    <tr>\n",
       "      <th>0</th>\n",
       "      <td>0</td>\n",
       "      <td>727.615</td>\n",
       "      <td>120.644</td>\n",
       "      <td>1.0</td>\n",
       "      <td>694.885</td>\n",
       "      <td>109.091</td>\n",
       "      <td>1.0</td>\n",
       "      <td>716.819</td>\n",
       "      <td>81.464</td>\n",
       "      <td>1.0</td>\n",
       "      <td>...</td>\n",
       "      <td>1.0</td>\n",
       "      <td>636.379</td>\n",
       "      <td>74.725</td>\n",
       "      <td>1.0</td>\n",
       "      <td>NaN</td>\n",
       "      <td>NaN</td>\n",
       "      <td>NaN</td>\n",
       "      <td>NaN</td>\n",
       "      <td>NaN</td>\n",
       "      <td>NaN</td>\n",
       "    </tr>\n",
       "    <tr>\n",
       "      <th>1</th>\n",
       "      <td>1</td>\n",
       "      <td>727.847</td>\n",
       "      <td>120.671</td>\n",
       "      <td>1.0</td>\n",
       "      <td>695.034</td>\n",
       "      <td>109.091</td>\n",
       "      <td>1.0</td>\n",
       "      <td>717.193</td>\n",
       "      <td>81.520</td>\n",
       "      <td>1.0</td>\n",
       "      <td>...</td>\n",
       "      <td>1.0</td>\n",
       "      <td>636.379</td>\n",
       "      <td>74.725</td>\n",
       "      <td>1.0</td>\n",
       "      <td>NaN</td>\n",
       "      <td>NaN</td>\n",
       "      <td>NaN</td>\n",
       "      <td>NaN</td>\n",
       "      <td>NaN</td>\n",
       "      <td>NaN</td>\n",
       "    </tr>\n",
       "    <tr>\n",
       "      <th>2</th>\n",
       "      <td>2</td>\n",
       "      <td>727.847</td>\n",
       "      <td>121.480</td>\n",
       "      <td>1.0</td>\n",
       "      <td>695.042</td>\n",
       "      <td>109.091</td>\n",
       "      <td>1.0</td>\n",
       "      <td>717.511</td>\n",
       "      <td>81.803</td>\n",
       "      <td>1.0</td>\n",
       "      <td>...</td>\n",
       "      <td>1.0</td>\n",
       "      <td>636.395</td>\n",
       "      <td>74.725</td>\n",
       "      <td>1.0</td>\n",
       "      <td>NaN</td>\n",
       "      <td>NaN</td>\n",
       "      <td>NaN</td>\n",
       "      <td>NaN</td>\n",
       "      <td>NaN</td>\n",
       "      <td>NaN</td>\n",
       "    </tr>\n",
       "    <tr>\n",
       "      <th>3</th>\n",
       "      <td>3</td>\n",
       "      <td>727.615</td>\n",
       "      <td>121.480</td>\n",
       "      <td>1.0</td>\n",
       "      <td>695.424</td>\n",
       "      <td>109.032</td>\n",
       "      <td>1.0</td>\n",
       "      <td>717.616</td>\n",
       "      <td>82.064</td>\n",
       "      <td>1.0</td>\n",
       "      <td>...</td>\n",
       "      <td>1.0</td>\n",
       "      <td>636.518</td>\n",
       "      <td>74.725</td>\n",
       "      <td>1.0</td>\n",
       "      <td>NaN</td>\n",
       "      <td>NaN</td>\n",
       "      <td>NaN</td>\n",
       "      <td>NaN</td>\n",
       "      <td>NaN</td>\n",
       "      <td>NaN</td>\n",
       "    </tr>\n",
       "    <tr>\n",
       "      <th>4</th>\n",
       "      <td>4</td>\n",
       "      <td>727.478</td>\n",
       "      <td>121.480</td>\n",
       "      <td>1.0</td>\n",
       "      <td>695.459</td>\n",
       "      <td>108.853</td>\n",
       "      <td>1.0</td>\n",
       "      <td>718.175</td>\n",
       "      <td>83.411</td>\n",
       "      <td>1.0</td>\n",
       "      <td>...</td>\n",
       "      <td>1.0</td>\n",
       "      <td>637.038</td>\n",
       "      <td>74.476</td>\n",
       "      <td>1.0</td>\n",
       "      <td>NaN</td>\n",
       "      <td>NaN</td>\n",
       "      <td>NaN</td>\n",
       "      <td>NaN</td>\n",
       "      <td>NaN</td>\n",
       "      <td>NaN</td>\n",
       "    </tr>\n",
       "    <tr>\n",
       "      <th>...</th>\n",
       "      <td>...</td>\n",
       "      <td>...</td>\n",
       "      <td>...</td>\n",
       "      <td>...</td>\n",
       "      <td>...</td>\n",
       "      <td>...</td>\n",
       "      <td>...</td>\n",
       "      <td>...</td>\n",
       "      <td>...</td>\n",
       "      <td>...</td>\n",
       "      <td>...</td>\n",
       "      <td>...</td>\n",
       "      <td>...</td>\n",
       "      <td>...</td>\n",
       "      <td>...</td>\n",
       "      <td>...</td>\n",
       "      <td>...</td>\n",
       "      <td>...</td>\n",
       "      <td>...</td>\n",
       "      <td>...</td>\n",
       "      <td>...</td>\n",
       "    </tr>\n",
       "    <tr>\n",
       "      <th>9315</th>\n",
       "      <td>9315</td>\n",
       "      <td>NaN</td>\n",
       "      <td>NaN</td>\n",
       "      <td>NaN</td>\n",
       "      <td>615.626</td>\n",
       "      <td>487.217</td>\n",
       "      <td>1.0</td>\n",
       "      <td>630.924</td>\n",
       "      <td>516.897</td>\n",
       "      <td>1.0</td>\n",
       "      <td>...</td>\n",
       "      <td>1.0</td>\n",
       "      <td>681.283</td>\n",
       "      <td>443.071</td>\n",
       "      <td>1.0</td>\n",
       "      <td>NaN</td>\n",
       "      <td>NaN</td>\n",
       "      <td>NaN</td>\n",
       "      <td>NaN</td>\n",
       "      <td>NaN</td>\n",
       "      <td>NaN</td>\n",
       "    </tr>\n",
       "    <tr>\n",
       "      <th>9316</th>\n",
       "      <td>9316</td>\n",
       "      <td>NaN</td>\n",
       "      <td>NaN</td>\n",
       "      <td>NaN</td>\n",
       "      <td>615.626</td>\n",
       "      <td>487.217</td>\n",
       "      <td>1.0</td>\n",
       "      <td>631.170</td>\n",
       "      <td>516.849</td>\n",
       "      <td>1.0</td>\n",
       "      <td>...</td>\n",
       "      <td>1.0</td>\n",
       "      <td>681.042</td>\n",
       "      <td>443.071</td>\n",
       "      <td>1.0</td>\n",
       "      <td>1162.082</td>\n",
       "      <td>283.269</td>\n",
       "      <td>0.734</td>\n",
       "      <td>NaN</td>\n",
       "      <td>NaN</td>\n",
       "      <td>NaN</td>\n",
       "    </tr>\n",
       "    <tr>\n",
       "      <th>9317</th>\n",
       "      <td>9317</td>\n",
       "      <td>NaN</td>\n",
       "      <td>NaN</td>\n",
       "      <td>NaN</td>\n",
       "      <td>615.647</td>\n",
       "      <td>487.024</td>\n",
       "      <td>1.0</td>\n",
       "      <td>631.170</td>\n",
       "      <td>516.843</td>\n",
       "      <td>1.0</td>\n",
       "      <td>...</td>\n",
       "      <td>1.0</td>\n",
       "      <td>681.022</td>\n",
       "      <td>443.140</td>\n",
       "      <td>1.0</td>\n",
       "      <td>1161.881</td>\n",
       "      <td>283.005</td>\n",
       "      <td>0.607</td>\n",
       "      <td>NaN</td>\n",
       "      <td>NaN</td>\n",
       "      <td>NaN</td>\n",
       "    </tr>\n",
       "    <tr>\n",
       "      <th>9318</th>\n",
       "      <td>9318</td>\n",
       "      <td>NaN</td>\n",
       "      <td>NaN</td>\n",
       "      <td>NaN</td>\n",
       "      <td>615.626</td>\n",
       "      <td>486.031</td>\n",
       "      <td>1.0</td>\n",
       "      <td>630.924</td>\n",
       "      <td>516.702</td>\n",
       "      <td>1.0</td>\n",
       "      <td>...</td>\n",
       "      <td>1.0</td>\n",
       "      <td>680.995</td>\n",
       "      <td>443.140</td>\n",
       "      <td>1.0</td>\n",
       "      <td>1156.948</td>\n",
       "      <td>282.968</td>\n",
       "      <td>0.662</td>\n",
       "      <td>NaN</td>\n",
       "      <td>NaN</td>\n",
       "      <td>NaN</td>\n",
       "    </tr>\n",
       "    <tr>\n",
       "      <th>9319</th>\n",
       "      <td>9319</td>\n",
       "      <td>NaN</td>\n",
       "      <td>NaN</td>\n",
       "      <td>NaN</td>\n",
       "      <td>615.626</td>\n",
       "      <td>485.822</td>\n",
       "      <td>1.0</td>\n",
       "      <td>630.924</td>\n",
       "      <td>516.667</td>\n",
       "      <td>1.0</td>\n",
       "      <td>...</td>\n",
       "      <td>1.0</td>\n",
       "      <td>680.911</td>\n",
       "      <td>443.140</td>\n",
       "      <td>1.0</td>\n",
       "      <td>NaN</td>\n",
       "      <td>NaN</td>\n",
       "      <td>NaN</td>\n",
       "      <td>NaN</td>\n",
       "      <td>NaN</td>\n",
       "      <td>NaN</td>\n",
       "    </tr>\n",
       "  </tbody>\n",
       "</table>\n",
       "<p>9320 rows × 25 columns</p>\n",
       "</div>"
      ],
      "text/plain": [
       "     bodyparts     nose                         Rear                      \\\n",
       "        coords        x        y likelihood        x        y likelihood   \n",
       "0            0  727.615  120.644        1.0  694.885  109.091        1.0   \n",
       "1            1  727.847  120.671        1.0  695.034  109.091        1.0   \n",
       "2            2  727.847  121.480        1.0  695.042  109.091        1.0   \n",
       "3            3  727.615  121.480        1.0  695.424  109.032        1.0   \n",
       "4            4  727.478  121.480        1.0  695.459  108.853        1.0   \n",
       "...        ...      ...      ...        ...      ...      ...        ...   \n",
       "9315      9315      NaN      NaN        NaN  615.626  487.217        1.0   \n",
       "9316      9316      NaN      NaN        NaN  615.626  487.217        1.0   \n",
       "9317      9317      NaN      NaN        NaN  615.647  487.024        1.0   \n",
       "9318      9318      NaN      NaN        NaN  615.626  486.031        1.0   \n",
       "9319      9319      NaN      NaN        NaN  615.626  485.822        1.0   \n",
       "\n",
       "         Lear                      ...      spine tailbase           \\\n",
       "            x        y likelihood  ... likelihood        x        y   \n",
       "0     716.819   81.464        1.0  ...        1.0  636.379   74.725   \n",
       "1     717.193   81.520        1.0  ...        1.0  636.379   74.725   \n",
       "2     717.511   81.803        1.0  ...        1.0  636.395   74.725   \n",
       "3     717.616   82.064        1.0  ...        1.0  636.518   74.725   \n",
       "4     718.175   83.411        1.0  ...        1.0  637.038   74.476   \n",
       "...       ...      ...        ...  ...        ...      ...      ...   \n",
       "9315  630.924  516.897        1.0  ...        1.0  681.283  443.071   \n",
       "9316  631.170  516.849        1.0  ...        1.0  681.042  443.071   \n",
       "9317  631.170  516.843        1.0  ...        1.0  681.022  443.140   \n",
       "9318  630.924  516.702        1.0  ...        1.0  680.995  443.140   \n",
       "9319  630.924  516.667        1.0  ...        1.0  680.911  443.140   \n",
       "\n",
       "                anteriorC                     posteriorC                 \n",
       "     likelihood         x        y likelihood          x   y likelihood  \n",
       "0           1.0       NaN      NaN        NaN        NaN NaN        NaN  \n",
       "1           1.0       NaN      NaN        NaN        NaN NaN        NaN  \n",
       "2           1.0       NaN      NaN        NaN        NaN NaN        NaN  \n",
       "3           1.0       NaN      NaN        NaN        NaN NaN        NaN  \n",
       "4           1.0       NaN      NaN        NaN        NaN NaN        NaN  \n",
       "...         ...       ...      ...        ...        ...  ..        ...  \n",
       "9315        1.0       NaN      NaN        NaN        NaN NaN        NaN  \n",
       "9316        1.0  1162.082  283.269      0.734        NaN NaN        NaN  \n",
       "9317        1.0  1161.881  283.005      0.607        NaN NaN        NaN  \n",
       "9318        1.0  1156.948  282.968      0.662        NaN NaN        NaN  \n",
       "9319        1.0       NaN      NaN        NaN        NaN NaN        NaN  \n",
       "\n",
       "[9320 rows x 25 columns]"
      ]
     },
     "execution_count": 138,
     "metadata": {},
     "output_type": "execute_result"
    }
   ],
   "source": [
    "data"
   ]
  },
  {
   "cell_type": "code",
   "execution_count": 139,
   "metadata": {},
   "outputs": [],
   "source": [
    "data=data.loc[:, bodyparts]"
   ]
  },
  {
   "cell_type": "code",
   "execution_count": 140,
   "metadata": {},
   "outputs": [
    {
     "data": {
      "text/html": [
       "<div>\n",
       "<style scoped>\n",
       "    .dataframe tbody tr th:only-of-type {\n",
       "        vertical-align: middle;\n",
       "    }\n",
       "\n",
       "    .dataframe tbody tr th {\n",
       "        vertical-align: top;\n",
       "    }\n",
       "\n",
       "    .dataframe thead tr th {\n",
       "        text-align: left;\n",
       "    }\n",
       "</style>\n",
       "<table border=\"1\" class=\"dataframe\">\n",
       "  <thead>\n",
       "    <tr>\n",
       "      <th></th>\n",
       "      <th colspan=\"3\" halign=\"left\">Rear</th>\n",
       "      <th colspan=\"3\" halign=\"left\">Lear</th>\n",
       "      <th colspan=\"3\" halign=\"left\">anteriorC</th>\n",
       "      <th colspan=\"3\" halign=\"left\">posteriorC</th>\n",
       "    </tr>\n",
       "    <tr>\n",
       "      <th></th>\n",
       "      <th>x</th>\n",
       "      <th>y</th>\n",
       "      <th>likelihood</th>\n",
       "      <th>x</th>\n",
       "      <th>y</th>\n",
       "      <th>likelihood</th>\n",
       "      <th>x</th>\n",
       "      <th>y</th>\n",
       "      <th>likelihood</th>\n",
       "      <th>x</th>\n",
       "      <th>y</th>\n",
       "      <th>likelihood</th>\n",
       "    </tr>\n",
       "  </thead>\n",
       "  <tbody>\n",
       "    <tr>\n",
       "      <th>0</th>\n",
       "      <td>694.885</td>\n",
       "      <td>109.091</td>\n",
       "      <td>1.0</td>\n",
       "      <td>716.819</td>\n",
       "      <td>81.464</td>\n",
       "      <td>1.0</td>\n",
       "      <td>NaN</td>\n",
       "      <td>NaN</td>\n",
       "      <td>NaN</td>\n",
       "      <td>NaN</td>\n",
       "      <td>NaN</td>\n",
       "      <td>NaN</td>\n",
       "    </tr>\n",
       "    <tr>\n",
       "      <th>1</th>\n",
       "      <td>695.034</td>\n",
       "      <td>109.091</td>\n",
       "      <td>1.0</td>\n",
       "      <td>717.193</td>\n",
       "      <td>81.520</td>\n",
       "      <td>1.0</td>\n",
       "      <td>NaN</td>\n",
       "      <td>NaN</td>\n",
       "      <td>NaN</td>\n",
       "      <td>NaN</td>\n",
       "      <td>NaN</td>\n",
       "      <td>NaN</td>\n",
       "    </tr>\n",
       "    <tr>\n",
       "      <th>2</th>\n",
       "      <td>695.042</td>\n",
       "      <td>109.091</td>\n",
       "      <td>1.0</td>\n",
       "      <td>717.511</td>\n",
       "      <td>81.803</td>\n",
       "      <td>1.0</td>\n",
       "      <td>NaN</td>\n",
       "      <td>NaN</td>\n",
       "      <td>NaN</td>\n",
       "      <td>NaN</td>\n",
       "      <td>NaN</td>\n",
       "      <td>NaN</td>\n",
       "    </tr>\n",
       "    <tr>\n",
       "      <th>3</th>\n",
       "      <td>695.424</td>\n",
       "      <td>109.032</td>\n",
       "      <td>1.0</td>\n",
       "      <td>717.616</td>\n",
       "      <td>82.064</td>\n",
       "      <td>1.0</td>\n",
       "      <td>NaN</td>\n",
       "      <td>NaN</td>\n",
       "      <td>NaN</td>\n",
       "      <td>NaN</td>\n",
       "      <td>NaN</td>\n",
       "      <td>NaN</td>\n",
       "    </tr>\n",
       "    <tr>\n",
       "      <th>4</th>\n",
       "      <td>695.459</td>\n",
       "      <td>108.853</td>\n",
       "      <td>1.0</td>\n",
       "      <td>718.175</td>\n",
       "      <td>83.411</td>\n",
       "      <td>1.0</td>\n",
       "      <td>NaN</td>\n",
       "      <td>NaN</td>\n",
       "      <td>NaN</td>\n",
       "      <td>NaN</td>\n",
       "      <td>NaN</td>\n",
       "      <td>NaN</td>\n",
       "    </tr>\n",
       "    <tr>\n",
       "      <th>...</th>\n",
       "      <td>...</td>\n",
       "      <td>...</td>\n",
       "      <td>...</td>\n",
       "      <td>...</td>\n",
       "      <td>...</td>\n",
       "      <td>...</td>\n",
       "      <td>...</td>\n",
       "      <td>...</td>\n",
       "      <td>...</td>\n",
       "      <td>...</td>\n",
       "      <td>...</td>\n",
       "      <td>...</td>\n",
       "    </tr>\n",
       "    <tr>\n",
       "      <th>9315</th>\n",
       "      <td>615.626</td>\n",
       "      <td>487.217</td>\n",
       "      <td>1.0</td>\n",
       "      <td>630.924</td>\n",
       "      <td>516.897</td>\n",
       "      <td>1.0</td>\n",
       "      <td>NaN</td>\n",
       "      <td>NaN</td>\n",
       "      <td>NaN</td>\n",
       "      <td>NaN</td>\n",
       "      <td>NaN</td>\n",
       "      <td>NaN</td>\n",
       "    </tr>\n",
       "    <tr>\n",
       "      <th>9316</th>\n",
       "      <td>615.626</td>\n",
       "      <td>487.217</td>\n",
       "      <td>1.0</td>\n",
       "      <td>631.170</td>\n",
       "      <td>516.849</td>\n",
       "      <td>1.0</td>\n",
       "      <td>1162.082</td>\n",
       "      <td>283.269</td>\n",
       "      <td>0.734</td>\n",
       "      <td>NaN</td>\n",
       "      <td>NaN</td>\n",
       "      <td>NaN</td>\n",
       "    </tr>\n",
       "    <tr>\n",
       "      <th>9317</th>\n",
       "      <td>615.647</td>\n",
       "      <td>487.024</td>\n",
       "      <td>1.0</td>\n",
       "      <td>631.170</td>\n",
       "      <td>516.843</td>\n",
       "      <td>1.0</td>\n",
       "      <td>1161.881</td>\n",
       "      <td>283.005</td>\n",
       "      <td>0.607</td>\n",
       "      <td>NaN</td>\n",
       "      <td>NaN</td>\n",
       "      <td>NaN</td>\n",
       "    </tr>\n",
       "    <tr>\n",
       "      <th>9318</th>\n",
       "      <td>615.626</td>\n",
       "      <td>486.031</td>\n",
       "      <td>1.0</td>\n",
       "      <td>630.924</td>\n",
       "      <td>516.702</td>\n",
       "      <td>1.0</td>\n",
       "      <td>1156.948</td>\n",
       "      <td>282.968</td>\n",
       "      <td>0.662</td>\n",
       "      <td>NaN</td>\n",
       "      <td>NaN</td>\n",
       "      <td>NaN</td>\n",
       "    </tr>\n",
       "    <tr>\n",
       "      <th>9319</th>\n",
       "      <td>615.626</td>\n",
       "      <td>485.822</td>\n",
       "      <td>1.0</td>\n",
       "      <td>630.924</td>\n",
       "      <td>516.667</td>\n",
       "      <td>1.0</td>\n",
       "      <td>NaN</td>\n",
       "      <td>NaN</td>\n",
       "      <td>NaN</td>\n",
       "      <td>NaN</td>\n",
       "      <td>NaN</td>\n",
       "      <td>NaN</td>\n",
       "    </tr>\n",
       "  </tbody>\n",
       "</table>\n",
       "<p>9320 rows × 12 columns</p>\n",
       "</div>"
      ],
      "text/plain": [
       "         Rear                         Lear                     anteriorC  \\\n",
       "            x        y likelihood        x        y likelihood         x   \n",
       "0     694.885  109.091        1.0  716.819   81.464        1.0       NaN   \n",
       "1     695.034  109.091        1.0  717.193   81.520        1.0       NaN   \n",
       "2     695.042  109.091        1.0  717.511   81.803        1.0       NaN   \n",
       "3     695.424  109.032        1.0  717.616   82.064        1.0       NaN   \n",
       "4     695.459  108.853        1.0  718.175   83.411        1.0       NaN   \n",
       "...       ...      ...        ...      ...      ...        ...       ...   \n",
       "9315  615.626  487.217        1.0  630.924  516.897        1.0       NaN   \n",
       "9316  615.626  487.217        1.0  631.170  516.849        1.0  1162.082   \n",
       "9317  615.647  487.024        1.0  631.170  516.843        1.0  1161.881   \n",
       "9318  615.626  486.031        1.0  630.924  516.702        1.0  1156.948   \n",
       "9319  615.626  485.822        1.0  630.924  516.667        1.0       NaN   \n",
       "\n",
       "                         posteriorC                 \n",
       "            y likelihood          x   y likelihood  \n",
       "0         NaN        NaN        NaN NaN        NaN  \n",
       "1         NaN        NaN        NaN NaN        NaN  \n",
       "2         NaN        NaN        NaN NaN        NaN  \n",
       "3         NaN        NaN        NaN NaN        NaN  \n",
       "4         NaN        NaN        NaN NaN        NaN  \n",
       "...       ...        ...        ...  ..        ...  \n",
       "9315      NaN        NaN        NaN NaN        NaN  \n",
       "9316  283.269      0.734        NaN NaN        NaN  \n",
       "9317  283.005      0.607        NaN NaN        NaN  \n",
       "9318  282.968      0.662        NaN NaN        NaN  \n",
       "9319      NaN        NaN        NaN NaN        NaN  \n",
       "\n",
       "[9320 rows x 12 columns]"
      ]
     },
     "execution_count": 140,
     "metadata": {},
     "output_type": "execute_result"
    }
   ],
   "source": [
    "data"
   ]
  },
  {
   "cell_type": "code",
   "execution_count": 141,
   "metadata": {},
   "outputs": [],
   "source": [
    "def extract_points(file, bodyparts, fr=200, pix2cm=14.5, thresh=0.7 ):\n",
    "    '''\n",
    "    function to extract mouse and cricket xy positions from DLC output csv\n",
    "    will also get the likelihood values for cricket positions\n",
    "    can be adapted later to add extraction of likelihood for the mouse\n",
    "\n",
    "    INPUTS:\n",
    "        file: str; filename/ path to the DLC output\n",
    "        bodyparts: list; list of the bodypart labels from DLC you need \n",
    "                added as an input since names vary across models\n",
    "        fr: int; framerate of videos, default=200\n",
    "        pix2cm: int; conversion from pixels to cm, default=14.5 (needs to be checked)\n",
    "        thresh: int, threshold for likelihood values, default=0.7\n",
    "    RETURNS:\n",
    "        mouse_xy: array; xy coordinates for the mouse across the trial\n",
    "        cricket_xy: array; xy coordinates for the cricket across trial,\n",
    "                cricket_xy is filtered to remove points with low likelihood\n",
    "        cricket_p: array; likelihood values of cricket points\n",
    "\n",
    "    '''\n",
    "    #set the constant values that will be used throughout\n",
    "    #load relevant dlc points from the csv, limits the amount you have to work with\n",
    "    data=pd.read_csv(file, skiprows=[0,1], header=[0,1])\n",
    "    data=data.loc[:, bodyparts]\n",
    "\n",
    "    #create 2d array for mouse xy coordinates\n",
    "    #right now indexing df depends on order of your bodyparts lists, find a better way to deal with this\n",
    "    rear_x=data[bodyparts[0],'x'].to_numpy()\n",
    "    rear_y=data[bodyparts[0],'y'].to_numpy()\n",
    "    \n",
    "    lear_x=data[bodyparts[1],'x'].to_numpy()\n",
    "    lear_y=data[bodyparts[1],'y'].to_numpy()\n",
    "\n",
    "    rear_xy=np.asarray([rear_x,rear_y])\n",
    "    lear_xy=np.asarray([lear_x,lear_y])\n",
    "\n",
    "    mouse_xy=0.5*(rear_xy+lear_xy)/pix2cm\n",
    "\n",
    "    #extract cricket likelihood and xy coordinates, same indexing issue \n",
    "    print(thresh)\n",
    "    cricket_p=(data[bodyparts[2],'likelihood'].to_numpy()+data[bodyparts[3],'likelihood'].to_numpy())/2\n",
    "    cricket_x=(data[bodyparts[2],'x'].to_numpy()+data[bodyparts[3],'x'].to_numpy())/2*pix2cm\n",
    "    cricket_y=(data[bodyparts[2],'y'].to_numpy()+data[bodyparts[3],'y'].to_numpy())/2*pix2cm\n",
    "\n",
    "    thresh_cricket_x=cricket_x.copy()\n",
    "    thresh_cricket_x[cricket_p<thresh]=np.nan\n",
    "    thresh_cricket_y=cricket_y.copy()\n",
    "    thresh_cricket_y[cricket_p<thresh]=np.nan\n",
    "\n",
    "    cricket_xy=[thresh_cricket_x, thresh_cricket_y]\n",
    "\n",
    "    return mouse_xy, cricket_p, cricket_xy, rear_xy, lear_xy "
   ]
  },
  {
   "cell_type": "code",
   "execution_count": 142,
   "metadata": {},
   "outputs": [
    {
     "name": "stdout",
     "output_type": "stream",
     "text": [
      "0.9\n"
     ]
    },
    {
     "name": "stderr",
     "output_type": "stream",
     "text": [
      "/Users/mollyshallow/opt/anaconda3/lib/python3.7/site-packages/ipykernel_launcher.py:46: RuntimeWarning: invalid value encountered in less\n",
      "/Users/mollyshallow/opt/anaconda3/lib/python3.7/site-packages/ipykernel_launcher.py:48: RuntimeWarning: invalid value encountered in less\n"
     ]
    }
   ],
   "source": [
    " mouse_xy, cricket_p, cricket_xy, rear_xy, lear_xy = extract_points(file=csv, bodyparts=bodyparts, thresh=0.9)"
   ]
  },
  {
   "cell_type": "code",
   "execution_count": 143,
   "metadata": {},
   "outputs": [
    {
     "data": {
      "text/plain": [
       "array([[48.67944828, 48.69748276, 48.70872414, ..., 42.99368966,\n",
       "        42.98448276, 42.98448276],\n",
       "       [ 6.57086207,  6.5727931 ,  6.58255172, ..., 34.61610345,\n",
       "        34.577     , 34.56858621]])"
      ]
     },
     "execution_count": 143,
     "metadata": {},
     "output_type": "execute_result"
    }
   ],
   "source": [
    "mouse_xy"
   ]
  },
  {
   "cell_type": "code",
   "execution_count": 144,
   "metadata": {},
   "outputs": [
    {
     "data": {
      "text/plain": [
       "[<matplotlib.lines.Line2D at 0x7fcad7255f50>]"
      ]
     },
     "execution_count": 144,
     "metadata": {},
     "output_type": "execute_result"
    },
    {
     "data": {
      "image/png": "[encoded data removed]",
      "text/plain": [
       "<Figure size 432x288 with 1 Axes>"
      ]
     },
     "metadata": {
      "needs_background": "light"
     },
     "output_type": "display_data"
    }
   ],
   "source": [
    "plt.plot(mouse_xy[0], mouse_xy[1])\n"
   ]
  },
  {
   "cell_type": "code",
   "execution_count": 145,
   "metadata": {},
   "outputs": [],
   "source": [
    "    win = 12\n",
    "    cricket_dx = np.diff(cricket_xy[0])\n",
    "    cricket_dx = np.convolve(cricket_dx,np.ones(win)/win, 'same')\n",
    "    cricket_dy = np.diff(cricket_xy[1])\n",
    "    cricket_dy = np.convolve(cricket_dy,np.ones(win)/win, 'same')\n",
    "    cricket_spd = (np.sqrt(np.square(cricket_dx)+np.square(cricket_dy)))*framerate"
   ]
  },
  {
   "cell_type": "code",
   "execution_count": 146,
   "metadata": {},
   "outputs": [
    {
     "data": {
      "text/plain": [
       "array([nan, nan, nan, ..., nan, nan, nan])"
      ]
     },
     "execution_count": 146,
     "metadata": {},
     "output_type": "execute_result"
    }
   ],
   "source": [
    "cricket_spd"
   ]
  },
  {
   "cell_type": "code",
   "execution_count": 147,
   "metadata": {},
   "outputs": [
    {
     "data": {
      "text/plain": [
       "[<matplotlib.lines.Line2D at 0x7fcad6721290>]"
      ]
     },
     "execution_count": 147,
     "metadata": {},
     "output_type": "execute_result"
    },
    {
     "data": {
      "image/png": "[encoded data removed]",
      "text/plain": [
       "<Figure size 432x288 with 1 Axes>"
      ]
     },
     "metadata": {
      "needs_background": "light"
     },
     "output_type": "display_data"
    }
   ],
   "source": [
    "plt.plot(cricket_spd)"
   ]
  },
  {
   "cell_type": "code",
   "execution_count": 148,
   "metadata": {},
   "outputs": [],
   "source": [
    "def geometries(cricket_xy, mouse_xy, rear_xy, lear_xy, fr=200):\n",
    "    '''\n",
    "    function to calculate geometric variables from DLC points\n",
    "    these geometries can then be used for metrics such as time to capture\n",
    "    potential to be adapted to calculate all geometries needed for HMM\n",
    "    run extract_points before running this to get needed coordinates\n",
    "    \n",
    "    INPUTS:\n",
    "        cricket_xy: array; thresholded cricket xy coordinates\n",
    "        mouse_xy: array; mouse xy coordinates\n",
    "        rear_xy: array; xy coordinates of right ear, needed for azimuth calc\n",
    "        lear_xy: array; xy coordinates of left ear, needed for azimuth calc\n",
    "        fr: int; framerate of videos, default=200\n",
    "\n",
    "    RETURNS:\n",
    "        range: array; distance between mouse and cricket \n",
    "        mouse_spd: array; mouse speed \n",
    "        cricket_spd: array; cricket speed\n",
    "        az: array; azimuth (angle of mouse head to cricket)\n",
    "    '''\n",
    "    #calculate the distance between the mouse and cricket\n",
    "    dist = np.sqrt(np.square(cricket_xy[0]- mouse_xy[0]) + np.square(cricket_xy[1] - mouse_xy[1])) \n",
    "    dist[-1]=0 #we can think about if we want this but last point should be the capture?\n",
    "    #interpolate the range values to make up for dropped cricket points \n",
    "    ind = np.arange(0,len(dist))\n",
    "    interp = interpolate.interp1d(ind[~np.isnan(dist)], dist[~np.isnan(dist)],bounds_error=False, fill_value=np.nan )\n",
    "    range_interp = interp(ind)\n",
    "    dist = range_interp\n",
    "\n",
    "    #calculate mouse speed, can add to this later to do velocity in x and y \n",
    "    win = 12\n",
    "    mouse_dx = np.diff(mouse_xy[0])\n",
    "    mouse_dx = np.convolve(mouse_dx,np.ones(win)/win, 'same')\n",
    "    mouse_dy = np.diff(mouse_xy[1])\n",
    "    mouse_dy = np.convolve(mouse_dy,np.ones(win)/win, 'same')\n",
    "    mouse_spd = (np.sqrt(np.square(mouse_dx)+np.square(mouse_dy)))*fr\n",
    "\n",
    "    #calculate cricket speed, can also change this to velocities later\n",
    "    win = 12\n",
    "    cricket_dx = np.diff(cricket_xy[0])\n",
    "    cricket_dx = np.convolve(cricket_dx,np.ones(win)/win, 'same')\n",
    "    cricket_dy = np.diff(cricket_xy[1])\n",
    "    cricket_dy = np.convolve(cricket_dy,np.ones(win)/win, 'same')\n",
    "    cricket_spd = (np.sqrt(np.square(cricket_dx)+np.square(cricket_dy)))*fr\n",
    "    #probably need to do some interpolation on these values, but not sure how well this would work right now \n",
    "\n",
    "    #calculate azimuth \n",
    "    #right now goes from -180 to 180 to show the direction, but this can cause large jumps in the plotting\n",
    "    #could shift it to just going from 0 to 180 and indicate which direction the mouse is some other way \n",
    "    mouse_az = np.arctan2((cricket_xy[1] - mouse_xy[1]),(cricket_xy[0] - mouse_xy[0]))*180/np.pi\n",
    "    head_az = np.arctan2((rear_xy[1] - lear_xy[1]),(rear_xy[0] - lear_xy[0]))*180/np.pi -90\n",
    "    az = mouse_az-head_az\n",
    "    az = np.mod(az+180,360)-180\n",
    "    if np.sum(~np.isnan(az))>0:\n",
    "        azOld = az\n",
    "        ind = np.arange(0,len(az))\n",
    "        interp = interpolate.interp1d(ind[~np.isnan(az)], az[~np.isnan(az)],bounds_error=False, fill_value=np.nan )\n",
    "        az = interp(ind)\n",
    "\n",
    "    return dist, mouse_spd, cricket_spd, az"
   ]
  },
  {
   "cell_type": "code",
   "execution_count": 149,
   "metadata": {},
   "outputs": [],
   "source": [
    "dist, mouse_spd, cricket_spd, az=geometries(mouse_xy=mouse_xy, cricket_xy=cricket_xy, rear_xy=rear_xy, lear_xy=lear_xy)"
   ]
  },
  {
   "cell_type": "code",
   "execution_count": 150,
   "metadata": {},
   "outputs": [
    {
     "data": {
      "text/plain": [
       "array([nan, nan, nan, ..., nan, nan, nan])"
      ]
     },
     "execution_count": 150,
     "metadata": {},
     "output_type": "execute_result"
    }
   ],
   "source": [
    "cricket_spd"
   ]
  },
  {
   "cell_type": "code",
   "execution_count": 151,
   "metadata": {},
   "outputs": [
    {
     "data": {
      "text/plain": [
       "[<matplotlib.lines.Line2D at 0x7fcad66779d0>]"
      ]
     },
     "execution_count": 151,
     "metadata": {},
     "output_type": "execute_result"
    },
    {
     "data": {
      "image/png": "[encoded data removed]",
      "text/plain": [
       "<Figure size 432x288 with 1 Axes>"
      ]
     },
     "metadata": {
      "needs_background": "light"
     },
     "output_type": "display_data"
    }
   ],
   "source": [
    "plt.plot(mouse_spd)"
   ]
  },
  {
   "cell_type": "code",
   "execution_count": 152,
   "metadata": {},
   "outputs": [
    {
     "data": {
      "text/plain": [
       "(9320,)"
      ]
     },
     "execution_count": 152,
     "metadata": {},
     "output_type": "execute_result"
    }
   ],
   "source": [
    "np.shape(cricket_p)"
   ]
  },
  {
   "cell_type": "code",
   "execution_count": 153,
   "metadata": {},
   "outputs": [
    {
     "data": {
      "text/plain": [
       "[<matplotlib.lines.Line2D at 0x7fcad6606ed0>]"
      ]
     },
     "execution_count": 153,
     "metadata": {},
     "output_type": "execute_result"
    },
    {
     "data": {
      "image/png": "[encoded data removed]",
      "text/plain": [
       "<Figure size 432x288 with 1 Axes>"
      ]
     },
     "metadata": {
      "needs_background": "light"
     },
     "output_type": "display_data"
    }
   ],
   "source": [
    "plt.plot(timestamps, cricket_p)"
   ]
  },
  {
   "cell_type": "code",
   "execution_count": 154,
   "metadata": {},
   "outputs": [
    {
     "name": "stderr",
     "output_type": "stream",
     "text": [
      "/Users/mollyshallow/opt/anaconda3/lib/python3.7/site-packages/ipykernel_launcher.py:2: RuntimeWarning: invalid value encountered in greater\n",
      "  \n"
     ]
    },
    {
     "data": {
      "text/plain": [
       "array([4840, 4869, 4870, ..., 6094, 6095, 6096])"
      ]
     },
     "execution_count": 154,
     "metadata": {},
     "output_type": "execute_result"
    }
   ],
   "source": [
    "new_thresh=0.99\n",
    "start2end= np.where(cricket_p>new_thresh)[0]\n",
    "start2end"
   ]
  },
  {
   "cell_type": "code",
   "execution_count": 155,
   "metadata": {},
   "outputs": [],
   "source": [
    "start=start2end[0]"
   ]
  },
  {
   "cell_type": "code",
   "execution_count": 156,
   "metadata": {},
   "outputs": [],
   "source": [
    "end=start2end[-1]"
   ]
  },
  {
   "cell_type": "code",
   "execution_count": 157,
   "metadata": {},
   "outputs": [
    {
     "data": {
      "text/plain": [
       "1256"
      ]
     },
     "execution_count": 157,
     "metadata": {},
     "output_type": "execute_result"
    }
   ],
   "source": [
    "end-start"
   ]
  },
  {
   "cell_type": "code",
   "execution_count": 158,
   "metadata": {},
   "outputs": [
    {
     "data": {
      "text/plain": [
       "30.48"
      ]
     },
     "execution_count": 158,
     "metadata": {},
     "output_type": "execute_result"
    }
   ],
   "source": [
    "start2end[-1]/framerate"
   ]
  },
  {
   "cell_type": "code",
   "execution_count": 159,
   "metadata": {},
   "outputs": [
    {
     "data": {
      "text/plain": [
       "6.58"
      ]
     },
     "execution_count": 159,
     "metadata": {},
     "output_type": "execute_result"
    }
   ],
   "source": [
    "firstApproach/framerate"
   ]
  },
  {
   "cell_type": "code",
   "execution_count": 160,
   "metadata": {},
   "outputs": [
    {
     "data": {
      "text/plain": [
       "5"
      ]
     },
     "execution_count": 160,
     "metadata": {},
     "output_type": "execute_result"
    }
   ],
   "source": [
    "np.size(approachStarts)"
   ]
  },
  {
   "cell_type": "code",
   "execution_count": 161,
   "metadata": {},
   "outputs": [
    {
     "data": {
      "text/plain": [
       "array([ 6.58 ,  8.065, 24.495, 26.995, 29.83 ])"
      ]
     },
     "execution_count": 161,
     "metadata": {},
     "output_type": "execute_result"
    }
   ],
   "source": [
    "approachStarts[0]/framerate"
   ]
  },
  {
   "cell_type": "code",
   "execution_count": 162,
   "metadata": {},
   "outputs": [
    {
     "data": {
      "text/plain": [
       "24.2"
      ]
     },
     "execution_count": 162,
     "metadata": {},
     "output_type": "execute_result"
    }
   ],
   "source": [
    "start/framerate"
   ]
  },
  {
   "cell_type": "code",
   "execution_count": 163,
   "metadata": {},
   "outputs": [],
   "source": [
    "paired = list(zip(az,spd))"
   ]
  },
  {
   "cell_type": "code",
   "execution_count": 164,
   "metadata": {},
   "outputs": [],
   "source": [
    "approach = []\n",
    "for pair in paired:\n",
    "    if np.abs(pair[0]) < 30 and pair[1] > 5:\n",
    "        approach.append(1)\n",
    "    else:\n",
    "        approach.append(0)\n",
    "\n",
    "approach = signal.medfilt(approach, 101) # 101 is hardcoded half a second based on framerate\n",
    "approach = np.asarray(approach)\n",
    "\n",
    "approachStarts = np.where(np.diff(approach)>0)\n",
    "approachEnds = np.where(np.diff(approach)<0)\n",
    "firstApproach = np.min(approachStarts)\n",
    "timetoapproach = timestamps[firstApproach] # return this\n",
    "freqapproach=np.size(approachStarts) / movieT # return this"
   ]
  },
  {
   "cell_type": "code",
   "execution_count": 165,
   "metadata": {},
   "outputs": [
    {
     "data": {
      "text/plain": [
       "2.25"
      ]
     },
     "execution_count": 165,
     "metadata": {},
     "output_type": "execute_result"
    }
   ],
   "source": [
    "firstApproach/framerate"
   ]
  },
  {
   "cell_type": "code",
   "execution_count": 166,
   "metadata": {},
   "outputs": [
    {
     "ename": "IndexError",
     "evalue": "index 0 is out of bounds for axis 0 with size 0",
     "output_type": "error",
     "traceback": [
      "\u001b[0;31m---------------------------------------------------------------------------\u001b[0m",
      "\u001b[0;31mIndexError\u001b[0m                                Traceback (most recent call last)",
      "\u001b[0;32m<ipython-input-166-66aa074035bb>\u001b[0m in \u001b[0;36m<module>\u001b[0;34m\u001b[0m\n\u001b[0;32m----> 1\u001b[0;31m \u001b[0mnp\u001b[0m\u001b[0;34m.\u001b[0m\u001b[0mwhere\u001b[0m\u001b[0;34m(\u001b[0m\u001b[0mapproachStarts\u001b[0m\u001b[0;34m[\u001b[0m\u001b[0;36m0\u001b[0m\u001b[0;34m]\u001b[0m\u001b[0;34m>\u001b[0m\u001b[0mstart\u001b[0m\u001b[0;34m)\u001b[0m\u001b[0;34m[\u001b[0m\u001b[0;36m0\u001b[0m\u001b[0;34m]\u001b[0m\u001b[0;34m[\u001b[0m\u001b[0;36m0\u001b[0m\u001b[0;34m]\u001b[0m\u001b[0;34m\u001b[0m\u001b[0;34m\u001b[0m\u001b[0m\n\u001b[0m",
      "\u001b[0;31mIndexError\u001b[0m: index 0 is out of bounds for axis 0 with size 0"
     ]
    }
   ],
   "source": [
    "np.where(approachStarts[0]>start)[0][0]"
   ]
  },
  {
   "cell_type": "code",
   "execution_count": 167,
   "metadata": {},
   "outputs": [
    {
     "data": {
      "text/plain": [
       "array([0., 0., 0., ..., 0., 0., 0.])"
      ]
     },
     "execution_count": 167,
     "metadata": {},
     "output_type": "execute_result"
    }
   ],
   "source": [
    "approach"
   ]
  },
  {
   "cell_type": "code",
   "execution_count": 168,
   "metadata": {},
   "outputs": [
    {
     "data": {
      "text/plain": [
       "<matplotlib.collections.PathCollection at 0x7fcad71d6b90>"
      ]
     },
     "execution_count": 168,
     "metadata": {},
     "output_type": "execute_result"
    },
    {
     "data": {
      "image/png": "[encoded data removed]",
      "text/plain": [
       "<Figure size 432x288 with 1 Axes>"
      ]
     },
     "metadata": {
      "needs_background": "light"
     },
     "output_type": "display_data"
    }
   ],
   "source": [
    "plt.plot(timestamps[0:-1],approach)\n",
    "plt.scatter(start/framerate, 1,color='g')\n",
    "plt.scatter(end/framerate, 1, color='r')"
   ]
  },
  {
   "cell_type": "code",
   "execution_count": 169,
   "metadata": {},
   "outputs": [
    {
     "data": {
      "text/plain": [
       "array([2.255, 2.26 , 2.265, 2.27 , 2.275, 2.28 , 2.285, 2.29 , 2.295,\n",
       "       2.3  , 2.305, 2.31 , 2.315, 2.32 , 2.325, 2.33 , 2.335, 2.34 ,\n",
       "       2.345, 2.35 , 2.355, 2.36 , 2.365, 2.37 , 2.375, 2.38 , 2.385,\n",
       "       2.39 , 2.395, 2.4  , 2.405, 2.41 , 2.415, 2.42 , 2.425, 2.43 ,\n",
       "       2.435, 2.44 , 2.445, 2.45 , 2.455, 2.46 , 2.465, 2.47 , 2.475,\n",
       "       2.48 , 2.485, 2.49 , 2.495, 2.5  , 2.505, 2.51 , 2.515, 2.52 ,\n",
       "       2.525, 2.53 , 2.535, 2.54 , 2.545, 2.55 , 2.555, 2.56 , 2.565,\n",
       "       2.57 , 2.575, 2.58 , 2.585, 2.59 , 2.595, 2.6  , 2.605, 2.61 ,\n",
       "       2.615, 2.62 , 2.625, 2.63 , 2.635, 2.64 , 2.645, 2.65 , 2.655,\n",
       "       2.66 , 2.665, 2.67 , 2.675, 2.68 , 2.685, 2.69 , 2.695, 2.7  ,\n",
       "       2.705, 2.71 , 2.715, 2.72 , 4.22 , 4.225, 4.23 , 4.235, 4.24 ,\n",
       "       4.245, 4.25 , 4.255, 4.26 , 4.265, 4.27 , 4.275, 4.28 , 4.285,\n",
       "       4.29 , 4.295, 4.3  , 4.305, 4.31 , 4.315, 4.32 , 4.325, 4.33 ,\n",
       "       4.335, 4.34 , 4.345, 4.35 , 4.355, 4.36 , 4.365, 4.37 , 4.375,\n",
       "       4.38 , 4.385, 4.39 , 4.395, 4.4  , 4.405, 4.41 , 4.415, 4.42 ,\n",
       "       4.425, 4.43 , 4.435, 4.44 , 4.445, 4.45 , 4.455, 4.46 , 4.465,\n",
       "       4.47 , 4.475, 4.48 , 4.485, 4.49 , 4.495, 4.5  , 4.505, 4.51 ,\n",
       "       4.515, 4.52 , 4.525, 4.53 , 4.535, 4.54 , 4.545, 4.55 , 4.555,\n",
       "       4.56 , 4.565, 4.57 , 4.575, 4.58 , 4.585, 4.59 , 4.595, 4.6  ,\n",
       "       4.605, 4.61 , 4.615, 4.62 , 4.625, 4.63 , 4.635, 4.64 , 4.645,\n",
       "       4.65 , 4.655, 4.66 , 4.665, 4.67 , 4.675, 4.68 , 4.685, 4.69 ,\n",
       "       4.695, 4.7  , 4.705, 4.71 , 4.715, 4.72 , 4.725, 4.73 , 4.735,\n",
       "       4.74 , 4.745, 4.75 , 4.755, 4.76 , 4.765, 4.77 , 4.775, 4.78 ,\n",
       "       4.785, 4.79 , 4.795, 4.8  , 4.805, 4.81 , 4.815, 4.82 , 4.825,\n",
       "       4.83 , 4.835, 4.84 , 4.845, 4.85 , 4.855, 4.86 , 4.865, 4.87 ,\n",
       "       4.875, 4.88 , 4.885, 4.89 , 4.895, 4.9  , 4.905, 4.91 , 4.915,\n",
       "       4.92 , 4.925, 4.93 , 4.935, 4.94 , 4.945, 5.125, 5.13 , 5.135,\n",
       "       5.14 , 5.145, 5.15 , 5.155, 5.16 , 5.165, 5.17 , 5.175, 5.18 ,\n",
       "       5.185, 5.19 , 5.195, 5.2  , 5.205, 5.21 , 5.215, 5.22 , 5.225,\n",
       "       5.23 , 5.235, 5.24 , 5.245, 5.25 , 5.255, 5.26 , 5.265, 5.27 ,\n",
       "       5.275, 5.28 , 5.285, 5.29 , 5.295, 5.3  , 5.305, 5.31 , 5.315,\n",
       "       5.32 , 5.325, 5.33 , 5.335, 5.34 , 5.345, 5.35 , 5.355, 5.36 ,\n",
       "       5.365, 5.37 , 5.375, 5.38 , 5.385, 5.39 , 5.395, 5.4  , 5.405,\n",
       "       5.41 , 5.415, 5.42 , 5.425, 5.43 , 5.435, 5.44 , 5.445, 5.45 ,\n",
       "       5.455, 5.46 , 5.465, 5.47 , 5.475, 5.48 , 5.485, 5.49 , 5.495,\n",
       "       5.5  , 5.505, 5.51 , 5.515, 5.52 , 5.525, 5.53 , 5.535, 5.54 ,\n",
       "       5.545, 5.55 , 5.555, 5.56 , 5.565, 5.57 , 5.575, 5.58 , 5.585,\n",
       "       5.59 , 5.595, 5.6  , 5.605, 5.61 , 5.615, 5.62 , 5.625, 5.63 ,\n",
       "       5.635, 5.64 , 5.645, 5.65 , 5.655, 5.66 , 5.665, 5.67 , 5.675,\n",
       "       5.68 , 5.685, 5.69 , 5.695, 5.7  , 5.705, 5.71 , 5.715, 5.72 ,\n",
       "       5.725, 5.73 , 5.735, 5.74 , 5.745, 5.75 , 5.755, 5.76 , 5.765,\n",
       "       5.77 , 5.775, 5.78 , 5.785, 5.79 , 5.795, 5.8  , 5.805, 5.81 ,\n",
       "       5.815, 5.82 , 5.825, 5.83 , 5.835, 5.84 , 5.845, 5.85 , 5.855,\n",
       "       5.86 , 5.865, 5.87 , 5.875, 5.88 , 5.885, 5.89 , 5.895, 5.9  ,\n",
       "       5.905, 5.91 , 5.915, 5.92 , 5.925, 5.93 , 5.935, 5.94 , 5.945,\n",
       "       5.95 , 5.955, 5.96 , 5.965, 5.97 , 5.975, 5.98 , 5.985, 5.99 ,\n",
       "       5.995, 6.   , 6.005, 6.01 , 6.015, 6.02 , 6.025, 6.03 , 6.035,\n",
       "       6.04 , 6.045, 6.05 , 6.055, 6.06 , 6.065, 6.07 , 6.075, 6.08 ,\n",
       "       6.085, 6.09 , 6.095, 6.1  , 6.105, 6.11 , 6.115, 6.12 , 6.125,\n",
       "       6.13 , 6.135, 6.14 , 6.145, 6.15 , 6.155, 6.16 , 6.165, 6.17 ,\n",
       "       6.175, 6.18 , 6.185, 6.19 , 6.195, 6.2  , 6.205, 6.21 , 6.215,\n",
       "       6.22 , 6.225, 6.23 , 6.235, 6.24 , 6.245, 6.25 , 6.255, 6.26 ,\n",
       "       6.265, 6.27 , 6.275, 6.28 , 6.285, 6.29 , 6.295, 6.3  , 6.305,\n",
       "       6.31 , 6.315, 6.32 , 6.325, 6.33 , 6.335, 6.34 , 6.345, 6.35 ,\n",
       "       6.355, 6.36 , 6.365, 6.37 , 6.375, 6.38 , 6.385, 6.39 , 6.395,\n",
       "       6.4  , 6.405, 6.41 , 6.415, 6.42 , 6.425, 6.43 , 6.435, 6.44 ,\n",
       "       6.445, 6.45 , 6.455, 6.46 , 6.465, 6.47 , 6.475, 6.48 , 6.485,\n",
       "       6.49 , 6.495, 6.5  , 6.505, 6.51 , 6.515, 6.52 , 6.525, 6.53 ,\n",
       "       6.535, 6.54 , 6.545, 6.55 , 6.555, 6.56 , 6.565, 6.57 , 6.575,\n",
       "       6.58 , 6.585, 6.59 , 6.595, 6.6  , 6.605, 6.61 , 6.615, 6.62 ,\n",
       "       6.625, 6.63 , 6.635, 6.64 , 6.645, 6.65 , 6.655, 6.66 , 6.665,\n",
       "       6.67 , 6.675, 6.68 , 6.685, 6.69 , 6.695, 6.7  , 6.705, 6.71 ,\n",
       "       6.715, 6.72 , 6.725, 6.73 , 6.735, 6.74 , 6.745, 6.75 , 6.755,\n",
       "       6.76 , 6.765, 6.77 , 6.775, 6.78 , 6.785, 6.79 , 6.795, 6.8  ,\n",
       "       6.805, 6.81 , 6.815, 6.82 , 6.825, 6.83 , 6.835, 6.84 , 6.845,\n",
       "       6.85 , 6.855, 6.86 , 6.865, 6.87 , 6.875, 6.88 , 6.885, 6.89 ,\n",
       "       6.895, 6.9  , 6.905, 6.91 , 6.915, 6.92 , 6.925, 6.93 , 6.935,\n",
       "       6.94 , 6.945, 6.95 , 6.955, 6.96 , 6.965, 6.97 , 6.975, 6.98 ,\n",
       "       6.985, 6.99 , 6.995, 7.   , 7.005, 7.01 , 7.015, 7.02 , 7.025,\n",
       "       7.03 , 7.035, 7.04 , 7.045, 7.05 , 7.055, 7.06 , 7.065, 7.07 ,\n",
       "       7.075, 7.08 , 7.085, 7.09 , 7.095, 7.1  , 7.105, 7.11 , 7.115,\n",
       "       7.12 , 7.125, 7.13 , 7.135, 7.14 , 7.145, 7.15 , 7.155, 7.16 ,\n",
       "       7.165, 7.17 , 7.175, 7.18 , 7.185, 7.19 , 7.195, 7.2  , 7.205,\n",
       "       7.21 , 7.215, 7.22 , 7.225, 7.23 , 7.235, 7.24 , 7.245, 7.25 ,\n",
       "       7.255, 7.26 , 7.265, 7.27 , 7.275, 7.28 , 7.285, 7.29 , 7.295,\n",
       "       7.3  , 7.305, 7.31 , 7.315, 7.32 , 7.325, 7.33 , 7.335, 7.34 ,\n",
       "       7.345, 7.35 , 7.355, 7.36 , 7.365, 7.37 , 7.375, 7.38 , 7.385,\n",
       "       7.39 , 7.395, 7.4  , 7.405, 7.41 , 7.415, 7.42 , 7.425, 7.43 ,\n",
       "       7.435, 7.44 , 7.445, 7.45 , 7.455, 7.46 , 7.465, 7.47 , 7.475,\n",
       "       7.48 , 7.485, 7.49 , 7.495, 7.5  , 7.505, 8.07 , 8.075, 8.08 ,\n",
       "       8.085, 8.09 , 8.095, 8.1  , 8.105, 8.11 , 8.115, 8.12 , 8.125,\n",
       "       8.13 , 8.135, 8.14 , 8.145, 8.15 , 8.155, 8.16 , 8.165, 8.17 ,\n",
       "       8.175, 8.18 , 8.185, 8.19 , 8.195, 8.2  , 8.205, 8.21 , 8.215,\n",
       "       8.22 , 8.225, 8.23 , 8.235, 8.24 , 8.245, 8.25 , 8.255, 8.26 ,\n",
       "       8.265, 8.27 , 8.275, 8.28 , 8.285, 8.29 , 8.295, 8.3  , 8.305,\n",
       "       8.31 , 8.315, 8.32 , 8.325, 8.33 , 8.335, 8.34 , 8.345, 8.35 ,\n",
       "       8.355, 8.36 , 8.365, 8.37 , 8.375, 8.38 , 8.385, 8.39 , 8.395,\n",
       "       8.4  , 8.405, 8.41 , 8.415, 8.42 , 8.425])"
      ]
     },
     "execution_count": 169,
     "metadata": {},
     "output_type": "execute_result"
    }
   ],
   "source": [
    "np.where(approach!=0)[0]/framerate"
   ]
  },
  {
   "cell_type": "code",
   "execution_count": 170,
   "metadata": {},
   "outputs": [],
   "source": [
    "def preycap_metrics(cricket_xy, cricket_p, dist, mouse_spd, az, fr=200, oldmodel=True):\n",
    "        '''\n",
    "        function to calculate basic metrics of prey capture behavior\n",
    "        decent first pass look at if there are differences between conditions\n",
    "        \n",
    "        INPUTS:\n",
    "            cricket_xy: array; thresholded cricket xy coordinates\n",
    "            cricket_p: array; cricket likelihoods\n",
    "            dist: array; distance between mouse and cricket\n",
    "            mouse_spd: array; mouse speed (not velocity)\n",
    "            az: array; angle between mouse's head and cricket \n",
    "            fr: int; framerate of videos, default=200\n",
    "            oldmodel: boolean; flag to mark cricket likelihood is bad, default=True\n",
    "\n",
    "        RETURNS:\n",
    "            captureT: int; time to capture the cricket --indication of start and end need to be changed \n",
    "            latency: int; time to the first approach\n",
    "            freqapproach: int; frequency of initiating approaches \n",
    "            p_intercept: int; probability of intercepting given an approach\n",
    "            p_capture: int; probability of capturing given intercepting \n",
    "        '''\n",
    "        #calculate the time to capture, right now running with a new, higher threshold than other calculations\n",
    "        #have if/else statement so that if new models in the future fix things but we don't want to re run old data \n",
    "        newthresh=0.99\n",
    "        movieT=len(cricket_p)/fr \n",
    "        if oldmodel==True:\n",
    "            start2end=np.where(cricket_p>newthresh)[0]\n",
    "            captureT=(start2end[-1]-start2end[0])/fr \n",
    "        else:\n",
    "            captureT=(np.max(np.where(~np.isnan(cricket_xy)))-np.min(np.where(~np.isnan(cricket_xy))))/fr \n",
    "        if captureT.size==0:\n",
    "            captureT=movieT\n",
    "\n",
    "        #calculate latency and frequency of initiating approaches \n",
    "        approach = []\n",
    "        paired = list(zip(az,mouse_spd))\n",
    "        for pair in paired:\n",
    "            if np.abs(pair[0]) < 30 and pair[1] > 5:\n",
    "                approach.append(1)\n",
    "            else:\n",
    "                approach.append(0)\n",
    "\n",
    "        approach = signal.medfilt(approach, 101) # 101 is hardcoded half a second based on framerate\n",
    "        approach = np.asarray(approach)\n",
    "\n",
    "        approachStarts = np.where(np.diff(approach)>0)\n",
    "        approachEnds = np.where(np.diff(approach)<0)\n",
    "        firstApproach = np.min(approachStarts)\n",
    "        timetoapproach = firstApproach/fr # return this\n",
    "        freqapproach=np.size(approachStarts) / movieT # return this\n",
    "\n",
    "        #calculate probability of interception given approach, and probability of capture given interception\n",
    "        intercept = []\n",
    "        maybeIntercept = np.take(dist, approachEnds) # uses approachEnds to index dist\n",
    "        maybeIntercept = maybeIntercept[0] # np.take returns tuple, first value are the ones you one\n",
    "        maybeIntercept[-1] = 0 # assuming last approach is intercept/capture, makes things werk\n",
    "\n",
    "        for i in maybeIntercept:\n",
    "            if i < 5:\n",
    "                intercept.append(1)\n",
    "            else:\n",
    "                intercept.append(0)\n",
    "\n",
    "        # calculate probability of intercept given approach\n",
    "        tot_approach = np.size(approachEnds)\n",
    "        tot_intercept = sum(intercept)\n",
    "        prob_inter = tot_intercept / tot_approach\n",
    "\n",
    "        # calculate the probability of capture given contact - 1/number of intercepts\n",
    "        if tot_intercept>0:\n",
    "            prob_capture = 1 / tot_intercept\n",
    "        else:\n",
    "            print('no capture')\n",
    "\n",
    "        return captureT, freqapproach, timetoapproach, prob_inter, prob_capture"
   ]
  },
  {
   "cell_type": "code",
   "execution_count": 171,
   "metadata": {},
   "outputs": [
    {
     "name": "stderr",
     "output_type": "stream",
     "text": [
      "/Users/mollyshallow/opt/anaconda3/lib/python3.7/site-packages/ipykernel_launcher.py:27: RuntimeWarning: invalid value encountered in greater\n"
     ]
    }
   ],
   "source": [
    "captureT, freqapproach, timetoapproach, prob_inter, prob_capture=preycap_metrics(cricket_xy=cricket_xy, cricket_p=cricket_p, dist=dist, mouse_spd=mouse_spd, az=az)"
   ]
  },
  {
   "cell_type": "code",
   "execution_count": 172,
   "metadata": {},
   "outputs": [
    {
     "data": {
      "text/plain": [
       "1.0"
      ]
     },
     "execution_count": 172,
     "metadata": {},
     "output_type": "execute_result"
    }
   ],
   "source": [
    "prob_capture"
   ]
  },
  {
   "cell_type": "code",
   "execution_count": null,
   "metadata": {},
   "outputs": [],
   "source": []
  }
 ],
 "metadata": {
  "kernelspec": {
   "display_name": "Python 3 (ipykernel)",
   "language": "python",
   "name": "python3"
  },
  "language_info": {
   "codemirror_mode": {
    "name": "ipython",
    "version": 3
   },
   "file_extension": ".py",
   "mimetype": "text/x-python",
   "name": "python",
   "nbconvert_exporter": "python",
   "pygments_lexer": "ipython3",
   "version": "3.9.16"
  }
 },
 "nbformat": 4,
 "nbformat_minor": 4
}
