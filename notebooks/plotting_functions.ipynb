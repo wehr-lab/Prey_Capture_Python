{
 "cells": [
  {
   "cell_type": "code",
   "execution_count": null,
   "id": "4819713c-9019-4dfe-94d8-0bc41fc0fb74",
   "metadata": {},
   "outputs": [],
   "source": [
    "import pandas as pd \n",
    "import matplotlib.pyplot as plt \n",
    "import seaborn as sns \n",
    "import numpy as np\n",
    "from copy import deepcopy as cdc\n",
    "\n",
    "from datetime import datetime as dt\n",
    "import re\n",
    "\n",
    "import statsmodels.api as sm\n",
    "from statsmodels.formula.api import ols\n",
    "from scipy import stats\n",
    "\n",
    "import prey_capture_python as preycap\n",
    "# import pandas as pd\n",
    "import numpy as np\n",
    "import matplotlib.pyplot as plt"
   ]
  },
  {
   "cell_type": "code",
   "execution_count": null,
   "id": "821e18da-69e7-4888-b552-8cf595423eb3",
   "metadata": {},
   "outputs": [],
   "source": [
    "def extract_timestamps(series:pd.Series) -> pd.Series:\n",
    "    timestamp = series.str.extract('_(\\d{4}-[\\-\\d_T]*)DLC', expand=False)\n",
    "    return pd.to_datetime(timestamp, format=\"%Y-%m-%dT%H_%M_%S\")\n",
    "##need to have filename column as type str in order for datetime extraction to be used, won't run on Posix type"
   ]
  }
 ],
 "metadata": {
  "kernelspec": {
   "display_name": "Python 3 (ipykernel)",
   "language": "python",
   "name": "python3"
  },
  "language_info": {
   "codemirror_mode": {
    "name": "ipython",
    "version": 3
   },
   "file_extension": ".py",
   "mimetype": "text/x-python",
   "name": "python",
   "nbconvert_exporter": "python",
   "pygments_lexer": "ipython3",
   "version": "3.9.16"
  }
 },
 "nbformat": 4,
 "nbformat_minor": 5
}
