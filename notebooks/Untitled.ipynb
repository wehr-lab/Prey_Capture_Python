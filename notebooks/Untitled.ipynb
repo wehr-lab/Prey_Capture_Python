{
 "cells": [
  {
   "cell_type": "code",
   "execution_count": 1,
   "id": "0b9815b8-662f-4dc4-88fb-96fea65d032b",
   "metadata": {},
   "outputs": [],
   "source": [
    "import pathlib as pl\n",
    "from copy import deepcopy\n",
    "import os\n",
    "import pandas as pd\n",
    "import numpy as np\n",
    "import prey_capture_python as preycap\n",
    "import glob\n",
    "\n",
    "# %% testing loading in file names and converting to posix + finding csv\n",
    "mollys_hell = pd.read_csv(\"/Volumes/Projects/PreyCapture/ZIActivation/DataDirs.csv\")\n",
    "new_stem = \"/Volumes/Projects/PreyCapture/ZIActivation/\"\n",
    "# print(new_stem)\n",
    "result_frame = pd.DataFrame(dtype=\"object\")\n",
    "list_of_failed_mice = []\n",
    "list_of_weird_mice = []"
   ]
  },
  {
   "cell_type": "code",
   "execution_count": 32,
   "id": "c16f128e-ee13-4f21-9e6a-57117a97de2a",
   "metadata": {
    "tags": []
   },
   "outputs": [],
   "source": [
    "for i, row in mollys_hell.iterrows():\n",
    "    file = row[\"path\"]\n",
    "    path_parts = list(pl.PureWindowsPath(file).parts)\n",
    "    path_parts = [path_parts[-1]]\n",
    "    # print(path_parts)\n",
    "    for path in path_parts:\n",
    "        # print(path)\n",
    "        path=str(new_stem+path)\n",
    "        # print(path)\n",
    "        ext='csv'\n",
    "        os.chdir(path)\n",
    "        try:\n",
    "            csv=glob.glob('*_filtered.{}'.format(ext))\n",
    "            csv=str(csv[0])\n",
    "            # print(csv)\n",
    "            posix_csv_path=str(path+'/'+csv)\n",
    "            # print(posix_csv_path)\n",
    "        except IndexError:\n",
    "            posix_csv_path=np.nan\n",
    "\n",
    "    path_parts_og = deepcopy(path_parts)\n",
    "\n",
    "    mollys_hell.at[i, \"posix_csv_path\"] = posix_csv_path\n",
    "    # print(posix_csv_path)\n",
    "    folder_path = pl.Path(*path_parts_og)"
   ]
  },
  {
   "cell_type": "code",
   "execution_count": 33,
   "id": "caae13d9-ed7c-42e8-9704-c10645b690d0",
   "metadata": {},
   "outputs": [],
   "source": [
    "if posix_csv_path is not np.nan:\n",
    "        mouse_xy, cricket_p, cricket_xy, rear_xy, lear_xy, headbase_xy, cricket_front, cricket_back = preycap.extract_points(posix_csv_path,\n",
    "                                                                                                ['Rear', 'Lear',\n",
    "                                                                                                 'anteriorC',\n",
    "                                                                                                 'posteriorC',\n",
    "                                                                                                 'headbase'])\n",
    "        # Cricket variables above give NaNs for this csv\n",
    "        try:\n",
    "            dist, cricket_spd, mouse_spd, az, c_length = preycap.geometries(mouse_xy, cricket_xy, rear_xy, lear_xy, headbase_xy,\n",
    "                                                                  cricket_p, cricket_front, cricket_back)\n",
    "            try:\n",
    "                start, end, approach, captureT, freqapproach, timetoapproach, interceptindex, timetointercept, prob_inter, prob_capture= preycap.preycap_metrics(\n",
    "                    cricket_xy,\n",
    "                    cricket_p, dist,\n",
    "                    mouse_spd, az,\n",
    "                    oldmodel=False)\n",
    "            except IndexError:\n",
    "                start,end, approach, captureT, freqapproach, timetoapproach, interceptindex, timetointercept, prob_inter, prob_capture= [0, 0, 0,\n",
    "                                                                                                               0, 0, 0,\n",
    "                                                                                                               0, 0, 0, 0]\n",
    "\n",
    "            result_frame.at[i, \"filename\"] = posix_csv_path\n",
    "            result_frame.at[i, \"folder_path\"] = folder_path\n",
    "            result_frame.at[i, \"condition\"] = row[\"Cond\"]\n",
    "            result_frame.at[i, \"laser_value\"] = row[\"Laser\"]\n",
    "            result_frame.at[i, \"circle\"] = row[\"Circ\"]\n",
    "            result_frame.at[i, \"dist\"] = dist.astype(\"object\")\n",
    "            result_frame.at[i, \"cricket_spd\"] = cricket_spd.astype(\"object\")\n",
    "            result_frame.at[i, \"mouse_spd\"] = mouse_spd.astype(\"object\")\n",
    "            result_frame.at[i, \"az\"] = az.astype(\"object\")\n",
    "            result_frame.at[i, \"captureT\"] = captureT\n",
    "            result_frame.at[i, \"cricketdrop\"] = start\n",
    "            result_frame.at[i, \"captureframe\"] = end\n",
    "            result_frame.at[i, \"freqapproach\"] = freqapproach\n",
    "            result_frame.at[i, \"timetoapproach\"] = timetoapproach\n",
    "            result_frame.at[i, \"prob_inter\"] = prob_inter\n",
    "            result_frame.at[i, \"prob_capture\"] = prob_capture\n",
    "            result_frame.at[i, \"timetointercept\"] = timetointercept\n",
    "            result_frame.at[i, \"interceptframe\"] = interceptindex\n",
    "            result_frame.at[i, \"c_length\"] = c_length\n",
    "\n",
    "        except ValueError:\n",
    "            clip = path_parts[-1]\n",
    "            mouse = clip.split(\"DLC\")[0]\n",
    "            list_of_failed_mice.append([mouse, posix_csv_path])\n",
    "            print(\"trial {} likely has no cricket. Please manually check\".format(mouse))\n",
    "        except IndexError:\n",
    "            clip = path_parts[-1]\n",
    "            mouse = clip.split(\"DLC\")[0]\n",
    "            list_of_weird_mice.append([mouse, posix_csv_path])\n",
    "            print(\"trial {} likely has no finish for approach. please manually check\".format(mouse))\n"
   ]
  },
  {
   "cell_type": "code",
   "execution_count": 14,
   "id": "10133400-4a24-4032-9ab6-b9aa439eaac2",
   "metadata": {},
   "outputs": [],
   "source": [
    "from datetime import datetime as dt\n",
    "import re\n",
    "def extract_timestamps(series:pd.Series) -> pd.Series:\n",
    "    timestamp = series.str.extract('_(\\d{4}-[\\-\\d_T]*)DLC', expand=False)\n",
    "    return pd.to_datetime(timestamp, format=\"%Y-%m-%dT%H_%M_%S\")"
   ]
  },
  {
   "cell_type": "code",
   "execution_count": 34,
   "id": "e775f661-30ce-434e-ab2e-5522a9c14235",
   "metadata": {},
   "outputs": [
    {
     "data": {
      "text/html": [
       "<div>\n",
       "<style scoped>\n",
       "    .dataframe tbody tr th:only-of-type {\n",
       "        vertical-align: middle;\n",
       "    }\n",
       "\n",
       "    .dataframe tbody tr th {\n",
       "        vertical-align: top;\n",
       "    }\n",
       "\n",
       "    .dataframe thead th {\n",
       "        text-align: right;\n",
       "    }\n",
       "</style>\n",
       "<table border=\"1\" class=\"dataframe\">\n",
       "  <thead>\n",
       "    <tr style=\"text-align: right;\">\n",
       "      <th></th>\n",
       "      <th>filename</th>\n",
       "      <th>folder_path</th>\n",
       "      <th>condition</th>\n",
       "      <th>laser_value</th>\n",
       "      <th>circle</th>\n",
       "      <th>dist</th>\n",
       "      <th>cricket_spd</th>\n",
       "      <th>mouse_spd</th>\n",
       "      <th>az</th>\n",
       "      <th>captureT</th>\n",
       "      <th>cricketdrop</th>\n",
       "      <th>captureframe</th>\n",
       "      <th>freqapproach</th>\n",
       "      <th>timetoapproach</th>\n",
       "      <th>prob_inter</th>\n",
       "      <th>prob_capture</th>\n",
       "      <th>timetointercept</th>\n",
       "      <th>interceptframe</th>\n",
       "      <th>c_length</th>\n",
       "    </tr>\n",
       "  </thead>\n",
       "  <tbody>\n",
       "    <tr>\n",
       "      <th>1730</th>\n",
       "      <td>/Volumes/Projects/PreyCapture/ZIActivation/202...</td>\n",
       "      <td>2022-08-25_9-58-33_mouse-0893</td>\n",
       "      <td>2.0</td>\n",
       "      <td>1.0</td>\n",
       "      <td>0.0</td>\n",
       "      <td>[nan, nan, nan, nan, nan, nan, nan, nan, nan, ...</td>\n",
       "      <td>[nan, nan, nan, nan, nan, nan, nan, nan, nan, ...</td>\n",
       "      <td>[8.518294332035682, 12.079279057376597, 14.063...</td>\n",
       "      <td>[nan, nan, nan, nan, nan, nan, nan, nan, nan, ...</td>\n",
       "      <td>19.23</td>\n",
       "      <td>5378.0</td>\n",
       "      <td>9224.0</td>\n",
       "      <td>0.117361</td>\n",
       "      <td>3.745</td>\n",
       "      <td>0.714286</td>\n",
       "      <td>0.2</td>\n",
       "      <td>6.46</td>\n",
       "      <td>1292.0</td>\n",
       "      <td>6.4885</td>\n",
       "    </tr>\n",
       "  </tbody>\n",
       "</table>\n",
       "</div>"
      ],
      "text/plain": [
       "                                               filename  \\\n",
       "1730  /Volumes/Projects/PreyCapture/ZIActivation/202...   \n",
       "\n",
       "                        folder_path  condition  laser_value  circle  \\\n",
       "1730  2022-08-25_9-58-33_mouse-0893        2.0          1.0     0.0   \n",
       "\n",
       "                                                   dist  \\\n",
       "1730  [nan, nan, nan, nan, nan, nan, nan, nan, nan, ...   \n",
       "\n",
       "                                            cricket_spd  \\\n",
       "1730  [nan, nan, nan, nan, nan, nan, nan, nan, nan, ...   \n",
       "\n",
       "                                              mouse_spd  \\\n",
       "1730  [8.518294332035682, 12.079279057376597, 14.063...   \n",
       "\n",
       "                                                     az  captureT  \\\n",
       "1730  [nan, nan, nan, nan, nan, nan, nan, nan, nan, ...     19.23   \n",
       "\n",
       "      cricketdrop  captureframe  freqapproach  timetoapproach  prob_inter  \\\n",
       "1730       5378.0        9224.0      0.117361           3.745    0.714286   \n",
       "\n",
       "      prob_capture  timetointercept  interceptframe  c_length  \n",
       "1730           0.2             6.46          1292.0    6.4885  "
      ]
     },
     "execution_count": 34,
     "metadata": {},
     "output_type": "execute_result"
    }
   ],
   "source": [
    "result_frame"
   ]
  },
  {
   "cell_type": "code",
   "execution_count": 70,
   "id": "9e3b61c3-a048-4152-82d4-4d3032ba51c9",
   "metadata": {},
   "outputs": [
    {
     "data": {
      "text/plain": [
       "pandas._libs.tslibs.timestamps.Timestamp"
      ]
     },
     "execution_count": 70,
     "metadata": {},
     "output_type": "execute_result"
    }
   ],
   "source": [
    "test=extract_timestamps(result_frame[\"filename\"])\n",
    "\n",
    "test=test.to_list()\n",
    "x=test[0]\n",
    "type(x)"
   ]
  },
  {
   "cell_type": "code",
   "execution_count": 1,
   "id": "64116caf-5ac0-4c6e-9877-a48183010661",
   "metadata": {},
   "outputs": [
    {
     "ename": "NameError",
     "evalue": "name 'datetime' is not defined",
     "output_type": "error",
     "traceback": [
      "\u001b[0;31m---------------------------------------------------------------------------\u001b[0m",
      "\u001b[0;31mNameError\u001b[0m                                 Traceback (most recent call last)",
      "Input \u001b[0;32mIn [1]\u001b[0m, in \u001b[0;36m<cell line: 1>\u001b[0;34m()\u001b[0m\n\u001b[0;32m----> 1\u001b[0m start \u001b[38;5;241m=\u001b[39m \u001b[43mdatetime\u001b[49m\u001b[38;5;241m.\u001b[39mstrptime(\u001b[38;5;124m'\u001b[39m\u001b[38;5;124m2022-08-20\u001b[39m\u001b[38;5;124m'\u001b[39m, \u001b[38;5;124m\"\u001b[39m\u001b[38;5;124m%\u001b[39m\u001b[38;5;124mY-\u001b[39m\u001b[38;5;124m%\u001b[39m\u001b[38;5;124mm-\u001b[39m\u001b[38;5;132;01m%d\u001b[39;00m\u001b[38;5;124m\"\u001b[39m)\n\u001b[1;32m      2\u001b[0m end \u001b[38;5;241m=\u001b[39m datetime\u001b[38;5;241m.\u001b[39mstrptime(\u001b[38;5;124m'\u001b[39m\u001b[38;5;124m2022-08-30\u001b[39m\u001b[38;5;124m'\u001b[39m, \u001b[38;5;124m\"\u001b[39m\u001b[38;5;124m%\u001b[39m\u001b[38;5;124mY-\u001b[39m\u001b[38;5;124m%\u001b[39m\u001b[38;5;124mm-\u001b[39m\u001b[38;5;132;01m%d\u001b[39;00m\u001b[38;5;124m\"\u001b[39m)\n",
      "\u001b[0;31mNameError\u001b[0m: name 'datetime' is not defined"
     ]
    }
   ],
   "source": [
    "start = datetime.strptime('2022-08-20', \"%Y-%m-%d\")\n",
    "end = datetime.strptime('2022-08-30', \"%Y-%m-%d\")"
   ]
  },
  {
   "cell_type": "code",
   "execution_count": 53,
   "id": "225a827e-29c1-443b-b6ed-5f0ac62a9bc2",
   "metadata": {},
   "outputs": [
    {
     "data": {
      "text/plain": [
       "datetime.datetime"
      ]
     },
     "execution_count": 53,
     "metadata": {},
     "output_type": "execute_result"
    }
   ],
   "source": [
    "type(start)"
   ]
  },
  {
   "cell_type": "code",
   "execution_count": 72,
   "id": "0809244b-4b95-4e9e-be1f-028678278c5d",
   "metadata": {},
   "outputs": [
    {
     "name": "stdout",
     "output_type": "stream",
     "text": [
      "baseline\n"
     ]
    }
   ],
   "source": [
    "if start<x<end:\n",
    "    print('baseline')\n"
   ]
  },
  {
   "cell_type": "code",
   "execution_count": 27,
   "id": "5da68c04-c7e9-4d3a-9a4c-4bf85c3441f4",
   "metadata": {},
   "outputs": [],
   "source": [
    "from datetime import datetime, timedelta\n",
    "start = datetime.strptime('2022-02-20', \"%Y-%m-%d\")\n",
    "end = datetime.strptime('2022-03-05', \"%Y-%m-%d\")\n",
    "filesBetweenDate = []\n",
    "while start <= end:\n",
    "    f = start.strftime(\"%Y-%m-%d\")\n",
    "    if os.path.isfile(os.path.join(new_stem,f)):\n",
    "        filesBetweenDate.append(f)\n",
    "    start += timedelta(1)"
   ]
  },
  {
   "cell_type": "code",
   "execution_count": 28,
   "id": "ddb9114e-568c-4f46-8f4d-14a931e96059",
   "metadata": {},
   "outputs": [
    {
     "data": {
      "text/plain": [
       "[]"
      ]
     },
     "execution_count": 28,
     "metadata": {},
     "output_type": "execute_result"
    }
   ],
   "source": [
    "filesBetweenDate"
   ]
  },
  {
   "cell_type": "code",
   "execution_count": null,
   "id": "b34163ed-6642-4eed-89fe-e271013b9070",
   "metadata": {},
   "outputs": [],
   "source": []
  }
 ],
 "metadata": {
  "kernelspec": {
   "display_name": "Python 3 (ipykernel)",
   "language": "python",
   "name": "python3"
  },
  "language_info": {
   "codemirror_mode": {
    "name": "ipython",
    "version": 3
   },
   "file_extension": ".py",
   "mimetype": "text/x-python",
   "name": "python",
   "nbconvert_exporter": "python",
   "pygments_lexer": "ipython3",
   "version": "3.9.16"
  }
 },
 "nbformat": 4,
 "nbformat_minor": 5
}
