{
 "cells": [
  {
   "cell_type": "code",
   "execution_count": 1,
   "id": "7cdfe7c0-dbe7-4ccc-83d6-4aa297be6b29",
   "metadata": {},
   "outputs": [],
   "source": [
    "import pandas as pd \n",
    "import numpy as np\n",
    "from copy import deepcopy as cdc\n",
    "\n",
    "from datetime import datetime as dt\n",
    "import re\n",
    "def extract_timestamps(series:pd.Series) -> pd.Series:\n",
    "    timestamp = series.str.extract('_(\\d{4}-[\\-\\d_T]*)DLC', expand=False)\n",
    "    return pd.to_datetime(timestamp, format=\"%Y-%m-%dT%H_%M_%S\")\n",
    "##need to have filename column as type str in order for datetime extraction to be used, won't run on Posix type"
   ]
  },
  {
   "cell_type": "code",
   "execution_count": 2,
   "id": "046dddd4-53f4-4609-b2db-fba613c78c3b",
   "metadata": {},
   "outputs": [],
   "source": [
    "h5_new='/Volumes/molly/20220602alltrials_LD.h5'"
   ]
  },
  {
   "cell_type": "code",
   "execution_count": 3,
   "id": "49ce0cb1-74ed-47e5-99cd-f8f8da3068c7",
   "metadata": {},
   "outputs": [],
   "source": [
    "df=pd.read_hdf(h5_new, key='df')"
   ]
  },
  {
   "cell_type": "code",
   "execution_count": 90,
   "id": "2a50c5c7-172c-4028-8133-0c6590f4bfe5",
   "metadata": {},
   "outputs": [],
   "source": [
    "df['folder_path']=df['folder_path'].astype('str')\n",
    "df0896=df[df['folder_path'].str.contains('0896')]\n",
    "df0897=df[df['folder_path'].str.contains('0897')]\n",
    "df0898=df[df['folder_path'].str.contains('0898')]"
   ]
  },
  {
   "cell_type": "code",
   "execution_count": 91,
   "id": "f74b07cd-a11d-4d6e-9586-2397bf927e3e",
   "metadata": {},
   "outputs": [],
   "source": [
    "cond1_0896= df0896.query('condition == \"Condition1\"')\n",
    "cond3_0896=df0896.query('condition == \"Condition3\"')\n",
    "\n",
    "cond1_0896off=cond1_0896.iloc[np.where(cond1_0896['laser_value']==0)].sample(n=8)[['folder_path', 'laser_value']]\n",
    "cond1_0896on=cond1_0896.iloc[np.where(cond1_0896['laser_value']==1)].sample(n=8)[['folder_path','laser_value']]\n",
    "\n",
    "cond3_0896off=cond3_0896.iloc[np.where(cond3_0896['laser_value']==0)].sample(n=8)[['folder_path','laser_value']]\n",
    "cond3_0896on=cond3_0896.iloc[np.where(cond3_0896['laser_value']==1)].sample(n=8)[['folder_path','laser_value']]\n",
    "\n",
    "\n",
    "cond1_0897= df0897.query('condition == \"Condition1\"')\n",
    "cond3_0897=df0897.query('condition == \"Condition3\"')\n",
    "\n",
    "cond1_0897off=cond1_0897.iloc[np.where(cond1_0897['laser_value']==0)].sample(n=8)[['folder_path','laser_value']]\n",
    "cond1_0897on=cond1_0897.iloc[np.where(cond1_0897['laser_value']==1)].sample(n=8)[['folder_path','laser_value']]\n",
    "\n",
    "cond3_0897off=cond3_0897.iloc[np.where(cond3_0897['laser_value']==0)].sample(n=8)[['folder_path','laser_value']]\n",
    "cond3_0897on=cond3_0897.iloc[np.where(cond3_0897['laser_value']==1)].sample(n=8)[['folder_path','laser_value']]\n",
    "\n",
    "\n",
    "cond1_0898= df0898.query('condition == \"Condition1\"')\n",
    "cond3_0898=df0898.query('condition == \"Condition3\"')\n",
    "\n",
    "cond1_0898off=cond1_0898.iloc[np.where(cond1_0898['laser_value']==0)].sample(n=8)[['folder_path','laser_value']]\n",
    "cond1_0898on=cond1_0898.iloc[np.where(cond1_0898['laser_value']==1)].sample(n=8)[['folder_path','laser_value']]\n",
    "\n",
    "cond3_0898off=cond3_0898.iloc[np.where(cond3_0898['laser_value']==0)].sample(n=8)[['folder_path','laser_value']]\n",
    "cond3_0898on=cond3_0898.iloc[np.where(cond3_0898['laser_value']==1)].sample(n=8)[['folder_path','laser_value']]"
   ]
  },
  {
   "cell_type": "code",
   "execution_count": 92,
   "id": "e618f841-5977-43cd-8171-7792f5308a3a",
   "metadata": {},
   "outputs": [],
   "source": [
    "lightvids=pd.concat([cond1_0896off,cond1_0896on, cond1_0897off, cond1_0897on, cond1_0898off, cond1_0898on])\n",
    "darkvids=pd.concat([cond3_0896off,cond3_0896on, cond3_0897off, cond3_0897on, cond3_0898off, cond3_0898on])"
   ]
  },
  {
   "cell_type": "code",
   "execution_count": 93,
   "id": "1831b531-41a3-4ef0-815c-a731876908f6",
   "metadata": {},
   "outputs": [],
   "source": [
    "with open('lightvids.txt', 'w') as f_out:\n",
    "    f_out.write('\\n'.join(lightvids['folder_path'].astype('str')))"
   ]
  },
  {
   "cell_type": "code",
   "execution_count": 94,
   "id": "d48a0737-11cc-41d0-8c24-433618100ef6",
   "metadata": {},
   "outputs": [],
   "source": [
    "with open('darkvids.txt', 'w') as f_out:\n",
    "    f_out.write('\\n'.join(darkvids['folder_path'].astype('str')))"
   ]
  },
  {
   "cell_type": "code",
   "execution_count": 95,
   "id": "9ec8ae0f-1f32-4a38-a627-c2eb07043212",
   "metadata": {},
   "outputs": [],
   "source": [
    "with open('lightvids_key.txt', 'w') as f_out:\n",
    "    f_out.write('\\n'.join(lightvids['laser_value'].astype('str')))"
   ]
  },
  {
   "cell_type": "code",
   "execution_count": 96,
   "id": "a8103b57-cb99-45c7-8f54-78b9f6b310b9",
   "metadata": {},
   "outputs": [],
   "source": [
    "with open('darkvids_key.txt', 'w') as f_out:\n",
    "    f_out.write('\\n'.join(darkvids['laser_value'].astype('str')))"
   ]
  },
  {
   "cell_type": "code",
   "execution_count": null,
   "id": "df4e491f-9e1f-4eb6-ac88-2869f1140b04",
   "metadata": {},
   "outputs": [],
   "source": []
  }
 ],
 "metadata": {
  "kernelspec": {
   "display_name": "Python 3 (ipykernel)",
   "language": "python",
   "name": "python3"
  },
  "language_info": {
   "codemirror_mode": {
    "name": "ipython",
    "version": 3
   },
   "file_extension": ".py",
   "mimetype": "text/x-python",
   "name": "python",
   "nbconvert_exporter": "python",
   "pygments_lexer": "ipython3",
   "version": "3.9.16"
  }
 },
 "nbformat": 4,
 "nbformat_minor": 5
}
